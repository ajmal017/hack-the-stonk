{
 "cells": [
  {
   "cell_type": "code",
   "execution_count": 1,
   "metadata": {},
   "outputs": [
    {
     "name": "stderr",
     "output_type": "stream",
     "text": [
      "/home/juan/.local/lib/python3.6/site-packages/pandas_datareader/compat/__init__.py:7: FutureWarning: pandas.util.testing is deprecated. Use the functions in the public API at pandas.testing instead.\n",
      "  from pandas.util.testing import assert_frame_equal\n"
     ]
    }
   ],
   "source": [
    "from pandas_datareader import data as pdr \n",
    "from datetime import date\n",
    "import yfinance as yf \n",
    "yf.pdr_override()\n",
    "import pandas as pd\n",
    "import matplotlib.pyplot as plt \n",
    "import math\n",
    "import quandl\n",
    "import numpy as np"
   ]
  },
  {
   "cell_type": "code",
   "execution_count": 2,
   "metadata": {},
   "outputs": [],
   "source": [
    "ticker_sp = '^GSPC'\n",
    "ticker_gold = 'GC=F'\n",
    "ticker_oil = 'CL=F'\n",
    "ticker_dax = '^GDAXI'\n",
    "ticker_nikkei = '^N225'\n",
    "ticker_ftse = '^FTSE'\n",
    "ticker_shanghai = '000001.SS'\n",
    "\n",
    "auth_tok = \"Nv1rJgRR7u88iz_dg7Y6\"\n",
    "\n",
    "end_date = \"2020-05-1\"\n",
    "start_date = \"2000-01-01\""
   ]
  },
  {
   "cell_type": "code",
   "execution_count": 3,
   "metadata": {},
   "outputs": [],
   "source": [
    "def getGOLDData ():\n",
    "    # Contains price and volume\n",
    "    data = quandl.get(\"CHRIS/CME_GC1\", trim_start = start_date, trim_end = end_date, authtoken=auth_tok)\n",
    "    data = data[['Last', 'Volume']]\n",
    "    data.columns = [\"GOLD Adj Close\", \"GOLD Volume\"]\n",
    "    return data.dropna()\n",
    "\n",
    "def getSPData():\n",
    "    # Contains price and volume\n",
    "    data = pdr.get_data_yahoo(ticker_sp, start=start_date, end=end_date)\n",
    "    data = data[data.columns[4:6]] \n",
    "    data.columns = [\"SP500 Adj Close\",  \"SP500 Volume\"]\n",
    "    return data\n",
    "\n",
    "def getDAXData():\n",
    "    # Contains price and volume\n",
    "    data = pdr.get_data_yahoo(ticker_dax, start=start_date, end=end_date)\n",
    "    data = data[data.columns[4:6]]\n",
    "    data.columns = [\"DAX Adj Close\",  \"DAX Volume\"]\n",
    "    return data\n",
    "\n",
    "\n",
    "def getOILData():\n",
    "    # Contains price and volume\n",
    "    data = quandl.get(\"CHRIS/CME_CL1\", trim_start = start_date, trim_end = end_date, authtoken=auth_tok)\n",
    "    data = data[[\"Last\", \"Volume\"]]\n",
    "    data.columns=[\"OIL Adj Close\", \"OIL Volume\"]\n",
    "    return data.dropna()\n",
    "\n",
    "\n",
    "def getNIKKEIData():\n",
    "    # Contains only price\n",
    "    data = pdr.get_data_yahoo(ticker_nikkei, start=start_date, end=end_date)\n",
    "    data = data[data.columns[4:5]] \n",
    "    data.columns = [\"NIKKEI Adj Close\"]\n",
    "    return data\n",
    "\n",
    "\n",
    "def getFTSEData():\n",
    "    # Contains price and volume\n",
    "    data = pdr.get_data_yahoo(ticker_ftse, start=start_date, end=end_date)\n",
    "    data = data[data.columns[4:6]] \n",
    "    data.columns = [\"FTSE Adj Close\",  \"FTSE Volume\"]\n",
    "    return data\n",
    "\n",
    "def getSHANGHAIData():\n",
    "    # Contains only price\n",
    "    data = pdr.get_data_yahoo(ticker_shanghai, start=start_date, end=end_date)\n",
    "    data = data[data.columns[4:5]] \n",
    "    data.columns = [\"SHANGHAI Adj Close\"]\n",
    "    return data"
   ]
  },
  {
   "cell_type": "code",
   "execution_count": null,
   "metadata": {},
   "outputs": [],
   "source": []
  },
  {
   "cell_type": "code",
   "execution_count": 4,
   "metadata": {},
   "outputs": [],
   "source": [
    "def checkData (data):\n",
    "    counter = 0\n",
    "    for index, row in data.iterrows():\n",
    "        for item in row:\n",
    "            if (math.isnan(item)):\n",
    "                counter += 1\n",
    "                break\n",
    "    return counter\n",
    "\n",
    "def normalizeData(data):\n",
    "    for column in data:\n",
    "        maxValue = max(data[column])\n",
    "        data[column] = data[column] / maxValue"
   ]
  },
  {
   "cell_type": "code",
   "execution_count": 7,
   "metadata": {},
   "outputs": [],
   "source": [
    "def combineData():\n",
    "    allData = [getSPData(), getGOLDData(), getDAXData(), getOILData(), getNIKKEIData(), getSHANGHAIData(), getFTSEData()]\n",
    "    #allData = [getSPData()]\n",
    "    mergedData = pd.concat(allData, axis = 1)\n",
    "    print(\"REMOVED: {} DATA POINTS\".format(checkData(mergedData)))\n",
    "    cleanData = mergedData.dropna()\n",
    "    normalizeData(cleanData)\n",
    "    return cleanData"
   ]
  },
  {
   "cell_type": "code",
   "execution_count": 10,
   "metadata": {
    "scrolled": true
   },
   "outputs": [
    {
     "name": "stdout",
     "output_type": "stream",
     "text": [
      "[*********************100%***********************]  1 of 1 completed\n",
      "[*********************100%***********************]  1 of 1 completed\n",
      "[*********************100%***********************]  1 of 1 completed\n",
      "[*********************100%***********************]  1 of 1 completed\n",
      "[*********************100%***********************]  1 of 1 completed\n",
      "REMOVED: 831 DATA POINTS\n",
      "            SP500 Adj Close  SP500 Volume  GOLD Adj Close  GOLD Volume  \\\n",
      "Date                                                                     \n",
      "2000-01-04         0.413278      0.088074        0.150209     0.038545   \n",
      "2000-01-05         0.414072      0.094752        0.149362     0.027149   \n",
      "2000-01-06         0.414468      0.095346        0.149521     0.031954   \n",
      "2000-01-07         0.425696      0.106946        0.149786     0.023927   \n",
      "2000-01-11         0.424836      0.088511        0.150580     0.038427   \n",
      "...                     ...           ...             ...          ...   \n",
      "2020-04-23         0.826248      0.502479        0.922010     0.000605   \n",
      "2020-04-24         0.837748      0.469132        0.907979     0.000278   \n",
      "2020-04-27         0.850075      0.453400        0.908932     0.000212   \n",
      "2020-04-28         0.845618      0.495179        0.905332     0.000132   \n",
      "2020-04-30         0.860101      0.569395        0.893789     0.000411   \n",
      "\n",
      "            DAX Adj Close  DAX Volume  OIL Adj Close  OIL Volume  \\\n",
      "Date                                                               \n",
      "2000-01-04       0.477696    0.091491       0.175855    0.042691   \n",
      "2000-01-05       0.471540    0.103260       0.171450    0.040496   \n",
      "2000-01-06       0.469571    0.080715       0.170555    0.048664   \n",
      "2000-01-07       0.491766    0.109877       0.166701    0.052417   \n",
      "2000-01-11       0.499764    0.086026       0.177369    0.060787   \n",
      "...                   ...         ...            ...         ...   \n",
      "2020-04-23       0.762477    0.191902       0.116113    0.466582   \n",
      "2020-04-24       0.749590    0.235273       0.118246    0.340371   \n",
      "2020-04-27       0.773079    0.240058       0.088926    0.352183   \n",
      "2020-04-28       0.782916    0.287243       0.091335    0.504462   \n",
      "2020-04-30       0.787703    0.318963       0.131392    0.306740   \n",
      "\n",
      "            NIKKEI Adj Close  SHANGHAI Adj Close  FTSE Adj Close  FTSE Volume  \n",
      "Date                                                                           \n",
      "2000-01-04          0.787711            0.230853        0.855919     0.143284  \n",
      "2000-01-05          0.768630            0.231397        0.839227     0.151604  \n",
      "2000-01-06          0.753115            0.240303        0.827838     0.177684  \n",
      "2000-01-07          0.754158            0.248948        0.835234     0.200931  \n",
      "2000-01-11          0.781413            0.242903        0.837044     0.195210  \n",
      "...                      ...                 ...             ...          ...  \n",
      "2020-04-23          0.805394            0.465934        0.748151     0.199531  \n",
      "2020-04-24          0.798453            0.461015        0.738598     0.182952  \n",
      "2020-04-27          0.820059            0.462158        0.750745     0.179203  \n",
      "2020-04-28          0.819560            0.461260        0.765087     0.270723  \n",
      "2020-04-30          0.837074            0.469477        0.757730     0.437316  \n",
      "\n",
      "[4464 rows x 12 columns]\n"
     ]
    },
    {
     "name": "stderr",
     "output_type": "stream",
     "text": [
      "/home/juan/.local/lib/python3.6/site-packages/ipykernel_launcher.py:13: SettingWithCopyWarning: \n",
      "A value is trying to be set on a copy of a slice from a DataFrame.\n",
      "Try using .loc[row_indexer,col_indexer] = value instead\n",
      "\n",
      "See the caveats in the documentation: https://pandas.pydata.org/pandas-docs/stable/user_guide/indexing.html#returning-a-view-versus-a-copy\n",
      "  del sys.path[0]\n"
     ]
    }
   ],
   "source": [
    "data = combineData()\n",
    "\n",
    "print(data)\n",
    "\n",
    "day_counter = 0\n",
    "\n",
    "# Size of prediction\n",
    "prediction_size = 3\n",
    "\n",
    "# Number of days in the past\n",
    "historical_size = 15\n",
    "\n",
    "# Size of available data.\n",
    "data_size = len(data) - prediction_size - historical_size\n",
    "\n",
    "# Size of data alocated to training\n",
    "training_size = int(0.85*data_size)\n",
    "\n",
    "# Size of data alocated to testing\n",
    "testing_size = data_size - training_size\n",
    "\n",
    "# Number of data elements in a single day\n",
    "daily_data_size = 12 \n",
    "\n",
    "x_train = np.zeros((training_size, historical_size, daily_data_size))\n",
    "y_train = np.zeros((training_size))\n",
    "x_test  = np.zeros((testing_size, historical_size, daily_data_size))\n",
    "y_test  = np.zeros((testing_size))"
   ]
  },
  {
   "cell_type": "code",
   "execution_count": 11,
   "metadata": {},
   "outputs": [
    {
     "name": "stdout",
     "output_type": "stream",
     "text": [
      "100% completed\n"
     ]
    }
   ],
   "source": [
    "day_counter = 0\n",
    "\n",
    "for index, row in data.iterrows():\n",
    "    \n",
    "    if (day_counter == data_size):\n",
    "        print(\"100% completed\")\n",
    "        break\n",
    "\n",
    "    if (day_counter < len(x_train)):\n",
    "        \n",
    "        \n",
    "        for i in range (historical_size):\n",
    "            for j in range (daily_data_size):\n",
    "                x_train[day_counter][i][j] = data.iloc[day_counter + i][j]\n",
    "                \n",
    "        base_value = data.iloc[day_counter + historical_size - 1]['SP500 Adj Close']\n",
    "        future_values = []\n",
    "        for i in range (prediction_size):\n",
    "            future_values += [data.iloc[day_counter + historical_size + i]['SP500 Adj Close']] \n",
    "        average_future = sum(future_values) / len(future_values)\n",
    "        if ((average_future - base_value) > 0):\n",
    "            delta = 1\n",
    "        else:\n",
    "            delta = 0\n",
    "            \n",
    "        y_train[day_counter] = delta\n",
    "        \n",
    "        \n",
    "    else:\n",
    "        \n",
    "        for i in range (historical_size):\n",
    "            for j in range (daily_data_size):\n",
    "                x_test[day_counter - len(x_train)][i][j] = data.iloc[day_counter + i][j]\n",
    "                \n",
    "        base_value = data.iloc[day_counter + historical_size - 1]['SP500 Adj Close']\n",
    "        future_values = []\n",
    "        for i in range (prediction_size):\n",
    "            future_values += [data.iloc[day_counter + historical_size + i]['SP500 Adj Close']] \n",
    "        average_future = sum(future_values) / len(future_values)\n",
    "        if ((average_future - base_value) > 0):\n",
    "            delta = 1\n",
    "        else:\n",
    "            delta = 0\n",
    "            \n",
    "        y_test[day_counter - len(y_train)] = delta\n",
    "        \n",
    "    day_counter += 1\n",
    "    print(\"{}% completed\".format(int(100 * day_counter/data_size)), end = '\\r')"
   ]
  },
  {
   "cell_type": "code",
   "execution_count": 12,
   "metadata": {
    "scrolled": true
   },
   "outputs": [],
   "source": [
    "y_train = y_train.astype('uint8')\n",
    "y_test  = y_test.astype('uint8') "
   ]
  },
  {
   "cell_type": "code",
   "execution_count": 75,
   "metadata": {},
   "outputs": [],
   "source": [
    "# Balance out training data\n",
    "ones = 0\n",
    "zeros = 0\n",
    "for i in y_train:\n",
    "    if (i == 1):\n",
    "        ones += 1\n",
    "    else:\n",
    "        zeros += 1\n",
    "balanced_x_train = np.zeros((2*min(ones,zeros), historical_size, daily_data_size))\n",
    "balanced_y_train = np.zeros((2*min(ones,zeros)))\n",
    "\n",
    "\n",
    "# Insert ones\n",
    "index = 0\n",
    "for i in range (len(x_train)):\n",
    "    if (y_train[i] == 1):\n",
    "        balanced_x_train[index] = x_train[i]\n",
    "        balanced_y_train[index] = y_train[i]\n",
    "        index += 1\n",
    "        \n",
    "    if (index == min(ones, zeros)):\n",
    "        break\n",
    "        \n",
    "# Insert zeros\n",
    "for i in range (len(x_train)):\n",
    "    if (y_train[i] == 0):\n",
    "        balanced_x_train[index] = x_train[i]\n",
    "        balanced_y_train[index] = y_train[i]\n",
    "        index += 1\n",
    "        \n",
    "    if (index == len(balanced_x_train)):\n",
    "        break"
   ]
  },
  {
   "cell_type": "code",
   "execution_count": 74,
   "metadata": {},
   "outputs": [],
   "source": [
    "# Balance out testing data\n",
    "ones = 0\n",
    "zeros = 0\n",
    "for i in y_test:\n",
    "    if (i == 1):\n",
    "        ones += 1\n",
    "    else:\n",
    "        zeros += 1\n",
    "balanced_x_test = np.zeros((2*min(ones,zeros), historical_size, daily_data_size))\n",
    "balanced_y_test = np.zeros((2*min(ones,zeros)))\n",
    "\n",
    "\n",
    "# Insert ones\n",
    "index = 0\n",
    "for i in range (len(x_test)):\n",
    "    if (y_test[i] == 1):\n",
    "        balanced_x_test[index] = x_test[i]\n",
    "        balanced_y_test[index] = y_test[i]\n",
    "        index += 1\n",
    "        \n",
    "    if (index == min(ones, zeros)):\n",
    "        break\n",
    "        \n",
    "# Insert zeros\n",
    "for i in range (len(x_test)):\n",
    "    if (y_test[i] == 0):\n",
    "        balanced_x_test[index] = x_test[i]\n",
    "        balanced_y_test[index] = y_test[i]\n",
    "        index += 1\n",
    "        \n",
    "    if (index == len(balanced_x_test)):\n",
    "        break"
   ]
  },
  {
   "cell_type": "code",
   "execution_count": 79,
   "metadata": {},
   "outputs": [
    {
     "name": "stderr",
     "output_type": "stream",
     "text": [
      "/home/juan/.local/lib/python3.6/site-packages/ipykernel_launcher.py:4: FutureWarning: Using a non-tuple sequence for multidimensional indexing is deprecated; use `arr[tuple(seq)]` instead of `arr[seq]`. In the future this will be interpreted as an array index, `arr[np.array(seq)]`, which will result either in an error or a different result.\n",
      "  after removing the cwd from sys.path.\n",
      "/home/juan/.local/lib/python3.6/site-packages/ipykernel_launcher.py:5: FutureWarning: Using a non-tuple sequence for multidimensional indexing is deprecated; use `arr[tuple(seq)]` instead of `arr[seq]`. In the future this will be interpreted as an array index, `arr[np.array(seq)]`, which will result either in an error or a different result.\n",
      "  \"\"\"\n",
      "/home/juan/.local/lib/python3.6/site-packages/ipykernel_launcher.py:10: FutureWarning: Using a non-tuple sequence for multidimensional indexing is deprecated; use `arr[tuple(seq)]` instead of `arr[seq]`. In the future this will be interpreted as an array index, `arr[np.array(seq)]`, which will result either in an error or a different result.\n",
      "  # Remove the CWD from sys.path while we load stuff.\n",
      "/home/juan/.local/lib/python3.6/site-packages/ipykernel_launcher.py:11: FutureWarning: Using a non-tuple sequence for multidimensional indexing is deprecated; use `arr[tuple(seq)]` instead of `arr[seq]`. In the future this will be interpreted as an array index, `arr[np.array(seq)]`, which will result either in an error or a different result.\n",
      "  # This is added back by InteractiveShellApp.init_path()\n"
     ]
    }
   ],
   "source": [
    "# Shuffle training data\n",
    "randomize_training = np.arange(len(balanced_x_train))\n",
    "np.random.shuffle(randomize_training)\n",
    "balanced_x_train = balanced_x_train[[randomize_training]]\n",
    "balanced_y_train = balanced_y_train[[randomize_training]]\n",
    "\n",
    "# Shuffle testing data\n",
    "randomize_testing = np.arange(len(balanced_x_test))\n",
    "np.random.shuffle(randomize_testing)\n",
    "balanced_x_test = balanced_x_test[[randomize_testing]]\n",
    "balanced_y_test = balanced_y_test[[randomize_testing]]"
   ]
  },
  {
   "cell_type": "code",
   "execution_count": null,
   "metadata": {},
   "outputs": [],
   "source": []
  },
  {
   "cell_type": "code",
   "execution_count": 37,
   "metadata": {},
   "outputs": [],
   "source": [
    "import tensorflow as tf \n",
    "from tensorflow.keras.models import Sequential\n",
    "from tensorflow.keras.layers import Dense, LSTM, Dropout, BatchNormalization"
   ]
  },
  {
   "cell_type": "code",
   "execution_count": 38,
   "metadata": {},
   "outputs": [],
   "source": [
    "# Defining the type of model\n",
    "model = Sequential()\n",
    "\n",
    "# Defining the model\n",
    "model.add(LSTM(512, input_shape = x_train.shape[1:], activation = 'relu', return_sequences = True))\n",
    "model.add(Dropout(0.2))\n",
    "model.add(BatchNormalization())\n",
    "\n",
    "model.add(LSTM(512, activation = 'relu', return_sequences = True))\n",
    "model.add(Dropout(0.1))\n",
    "model.add(BatchNormalization())\n",
    "\n",
    "model.add(LSTM(512, activation = 'relu'))\n",
    "model.add(Dropout(0.2))\n",
    "model.add(BatchNormalization())\n",
    "\n",
    "model.add(Dense(32, activation = 'relu'))\n",
    "model.add(Dropout(0.2))\n",
    "\n",
    "model.add(Dense(2, activation = 'softmax'))"
   ]
  },
  {
   "cell_type": "code",
   "execution_count": 39,
   "metadata": {},
   "outputs": [],
   "source": [
    "opt = tf.keras.optimizers.Adam(lr=1e-3, decay = 1e-6)\n",
    "\n",
    "# Compile the model\n",
    "model.compile(loss = 'sparse_categorical_crossentropy',\n",
    "              optimizer = opt,\n",
    "              metrics = ['accuracy'])"
   ]
  },
  {
   "cell_type": "code",
   "execution_count": 41,
   "metadata": {},
   "outputs": [
    {
     "name": "stdout",
     "output_type": "stream",
     "text": [
      "Train on 3779 samples, validate on 667 samples\n",
      "Epoch 1/75\n",
      "3779/3779 [==============================] - 45s 12ms/sample - loss: 0.6931 - acc: 0.5277 - val_loss: 0.6733 - val_acc: 0.6012\n",
      "Epoch 2/75\n",
      "3779/3779 [==============================] - 45s 12ms/sample - loss: 0.6906 - acc: 0.5396 - val_loss: 0.6732 - val_acc: 0.6012\n",
      "Epoch 3/75\n",
      "3779/3779 [==============================] - 45s 12ms/sample - loss: 0.6931 - acc: 0.5242 - val_loss: 0.6752 - val_acc: 0.6012\n",
      "Epoch 4/75\n",
      "3779/3779 [==============================] - 45s 12ms/sample - loss: 0.6912 - acc: 0.5425 - val_loss: 0.6753 - val_acc: 0.6012\n",
      "Epoch 5/75\n",
      "3779/3779 [==============================] - 45s 12ms/sample - loss: 0.6927 - acc: 0.5374 - val_loss: 0.6749 - val_acc: 0.6012\n",
      "Epoch 6/75\n",
      "3779/3779 [==============================] - 45s 12ms/sample - loss: 0.6890 - acc: 0.5464 - val_loss: 0.6791 - val_acc: 0.6012\n",
      "Epoch 7/75\n",
      "3779/3779 [==============================] - 45s 12ms/sample - loss: 0.6893 - acc: 0.5401 - val_loss: 0.6769 - val_acc: 0.6012\n",
      "Epoch 8/75\n",
      "3779/3779 [==============================] - 45s 12ms/sample - loss: 0.6889 - acc: 0.5472 - val_loss: 0.6747 - val_acc: 0.6012\n",
      "Epoch 9/75\n",
      "3779/3779 [==============================] - 45s 12ms/sample - loss: 0.6884 - acc: 0.5425 - val_loss: 0.6765 - val_acc: 0.6012\n",
      "Epoch 10/75\n",
      "3779/3779 [==============================] - 49s 13ms/sample - loss: 0.6884 - acc: 0.5419 - val_loss: 0.6739 - val_acc: 0.6012\n",
      "Epoch 11/75\n",
      "3779/3779 [==============================] - 60s 16ms/sample - loss: 0.6884 - acc: 0.5385 - val_loss: 0.6728 - val_acc: 0.6012\n",
      "Epoch 12/75\n",
      "3779/3779 [==============================] - 45s 12ms/sample - loss: 0.6871 - acc: 0.5523 - val_loss: 0.6746 - val_acc: 0.6012\n",
      "Epoch 13/75\n",
      "3779/3779 [==============================] - 45s 12ms/sample - loss: 0.6890 - acc: 0.5435 - val_loss: 0.6960 - val_acc: 0.4603\n",
      "Epoch 14/75\n",
      "3779/3779 [==============================] - 47s 13ms/sample - loss: 0.6880 - acc: 0.5470 - val_loss: 0.6866 - val_acc: 0.5967\n",
      "Epoch 15/75\n",
      "3779/3779 [==============================] - 47s 12ms/sample - loss: 0.6888 - acc: 0.5472 - val_loss: 0.6771 - val_acc: 0.6012\n",
      "Epoch 16/75\n",
      "3779/3779 [==============================] - 45s 12ms/sample - loss: 0.6887 - acc: 0.5531 - val_loss: 0.6813 - val_acc: 0.6012\n",
      "Epoch 17/75\n",
      "3779/3779 [==============================] - 45s 12ms/sample - loss: 0.6885 - acc: 0.5369 - val_loss: 0.6811 - val_acc: 0.6012\n",
      "Epoch 18/75\n",
      "3779/3779 [==============================] - 45s 12ms/sample - loss: 0.6889 - acc: 0.5459 - val_loss: 0.6745 - val_acc: 0.6012\n",
      "Epoch 19/75\n",
      "3779/3779 [==============================] - 45s 12ms/sample - loss: 0.6890 - acc: 0.5470 - val_loss: 0.6741 - val_acc: 0.6012\n",
      "Epoch 20/75\n",
      "3779/3779 [==============================] - 46s 12ms/sample - loss: 0.6886 - acc: 0.5449 - val_loss: 1.0210 - val_acc: 0.6042\n",
      "Epoch 21/75\n",
      "3779/3779 [==============================] - 46s 12ms/sample - loss: 0.6884 - acc: 0.5512 - val_loss: 3.3861 - val_acc: 0.6012\n",
      "Epoch 22/75\n",
      "3779/3779 [==============================] - 46s 12ms/sample - loss: 0.6874 - acc: 0.5499 - val_loss: 1.1370 - val_acc: 0.6042\n",
      "Epoch 23/75\n",
      "3779/3779 [==============================] - 45s 12ms/sample - loss: 0.6868 - acc: 0.5523 - val_loss: 733.8317 - val_acc: 0.5037\n",
      "Epoch 24/75\n",
      "3779/3779 [==============================] - 45s 12ms/sample - loss: 0.6895 - acc: 0.5430 - val_loss: 0.6742 - val_acc: 0.6012\n",
      "Epoch 25/75\n",
      "3779/3779 [==============================] - 45s 12ms/sample - loss: 0.6884 - acc: 0.5441 - val_loss: 0.6740 - val_acc: 0.6012\n",
      "Epoch 26/75\n",
      "3779/3779 [==============================] - 45s 12ms/sample - loss: 0.6889 - acc: 0.5417 - val_loss: 0.6769 - val_acc: 0.6012\n",
      "Epoch 27/75\n",
      "3779/3779 [==============================] - 45s 12ms/sample - loss: 0.6881 - acc: 0.5509 - val_loss: 0.6764 - val_acc: 0.6012\n",
      "Epoch 28/75\n",
      "3779/3779 [==============================] - 45s 12ms/sample - loss: 0.6875 - acc: 0.5425 - val_loss: 0.6807 - val_acc: 0.6012\n",
      "Epoch 29/75\n",
      "3779/3779 [==============================] - 45s 12ms/sample - loss: 0.6868 - acc: 0.5515 - val_loss: 0.6826 - val_acc: 0.6012\n",
      "Epoch 30/75\n",
      "3779/3779 [==============================] - 45s 12ms/sample - loss: 0.6873 - acc: 0.5586 - val_loss: 0.6853 - val_acc: 0.5922\n",
      "Epoch 31/75\n",
      "3779/3779 [==============================] - 45s 12ms/sample - loss: 0.6872 - acc: 0.5464 - val_loss: 0.6791 - val_acc: 0.6012\n",
      "Epoch 32/75\n",
      "3779/3779 [==============================] - 45s 12ms/sample - loss: 0.6875 - acc: 0.5515 - val_loss: 0.6751 - val_acc: 0.6012\n",
      "Epoch 33/75\n",
      "3779/3779 [==============================] - 45s 12ms/sample - loss: 0.6868 - acc: 0.5456 - val_loss: 0.6753 - val_acc: 0.6012\n",
      "Epoch 34/75\n",
      "3779/3779 [==============================] - 45s 12ms/sample - loss: 0.6865 - acc: 0.5581 - val_loss: 0.6743 - val_acc: 0.6012\n",
      "Epoch 35/75\n",
      "3779/3779 [==============================] - 45s 12ms/sample - loss: 0.6879 - acc: 0.5494 - val_loss: 0.6749 - val_acc: 0.6012\n",
      "Epoch 36/75\n",
      "3779/3779 [==============================] - 45s 12ms/sample - loss: 0.6868 - acc: 0.5512 - val_loss: 0.6726 - val_acc: 0.6012\n",
      "Epoch 37/75\n",
      "3779/3779 [==============================] - 45s 12ms/sample - loss: 0.6890 - acc: 0.5451 - val_loss: 0.6756 - val_acc: 0.6012\n",
      "Epoch 38/75\n",
      "3779/3779 [==============================] - 46s 12ms/sample - loss: 0.6867 - acc: 0.5488 - val_loss: 0.6734 - val_acc: 0.6012\n",
      "Epoch 39/75\n",
      "3779/3779 [==============================] - 45s 12ms/sample - loss: 0.6884 - acc: 0.5459 - val_loss: 0.6788 - val_acc: 0.6012\n",
      "Epoch 40/75\n",
      "3779/3779 [==============================] - 45s 12ms/sample - loss: 0.6875 - acc: 0.5464 - val_loss: 0.6775 - val_acc: 0.6012\n",
      "Epoch 41/75\n",
      "3779/3779 [==============================] - 45s 12ms/sample - loss: 0.6864 - acc: 0.5539 - val_loss: 0.6747 - val_acc: 0.6012\n",
      "Epoch 42/75\n",
      "3779/3779 [==============================] - 45s 12ms/sample - loss: 0.6860 - acc: 0.5594 - val_loss: 0.6757 - val_acc: 0.6012\n",
      "Epoch 43/75\n",
      "3779/3779 [==============================] - 44s 12ms/sample - loss: 0.6877 - acc: 0.5475 - val_loss: 0.6814 - val_acc: 0.5742\n",
      "Epoch 44/75\n",
      "3779/3779 [==============================] - 45s 12ms/sample - loss: 0.6869 - acc: 0.5480 - val_loss: 0.6745 - val_acc: 0.6012\n",
      "Epoch 45/75\n",
      "3779/3779 [==============================] - 45s 12ms/sample - loss: 0.6870 - acc: 0.5501 - val_loss: 0.6714 - val_acc: 0.6012\n",
      "Epoch 46/75\n",
      "3779/3779 [==============================] - 45s 12ms/sample - loss: 0.6872 - acc: 0.5467 - val_loss: 0.6753 - val_acc: 0.6012\n",
      "Epoch 47/75\n",
      "3779/3779 [==============================] - 45s 12ms/sample - loss: 0.6853 - acc: 0.5578 - val_loss: 0.7104 - val_acc: 0.4978\n",
      "Epoch 48/75\n",
      "3779/3779 [==============================] - 45s 12ms/sample - loss: 0.6866 - acc: 0.5491 - val_loss: 0.6812 - val_acc: 0.6012\n",
      "Epoch 49/75\n",
      "3779/3779 [==============================] - 47s 12ms/sample - loss: 0.6850 - acc: 0.5581 - val_loss: 0.7271 - val_acc: 0.6012\n",
      "Epoch 50/75\n",
      "3779/3779 [==============================] - 45s 12ms/sample - loss: 0.6860 - acc: 0.5549 - val_loss: 0.6741 - val_acc: 0.6012\n",
      "Epoch 51/75\n",
      "3779/3779 [==============================] - 45s 12ms/sample - loss: 0.6892 - acc: 0.5366 - val_loss: 0.6757 - val_acc: 0.6012\n",
      "Epoch 52/75\n",
      "3779/3779 [==============================] - 45s 12ms/sample - loss: 0.6874 - acc: 0.5454 - val_loss: 0.6751 - val_acc: 0.6012\n",
      "Epoch 53/75\n",
      "3779/3779 [==============================] - 45s 12ms/sample - loss: 0.6875 - acc: 0.5576 - val_loss: 0.6747 - val_acc: 0.6012\n",
      "Epoch 54/75\n",
      "3779/3779 [==============================] - 45s 12ms/sample - loss: 0.6875 - acc: 0.5478 - val_loss: 0.6748 - val_acc: 0.6012\n",
      "Epoch 55/75\n",
      "3779/3779 [==============================] - 45s 12ms/sample - loss: 0.6871 - acc: 0.5504 - val_loss: 0.6754 - val_acc: 0.6012\n",
      "Epoch 56/75\n",
      "3779/3779 [==============================] - 45s 12ms/sample - loss: 0.6869 - acc: 0.5528 - val_loss: 0.6794 - val_acc: 0.6012\n",
      "Epoch 57/75\n",
      "3779/3779 [==============================] - 45s 12ms/sample - loss: 0.6863 - acc: 0.5568 - val_loss: 0.6736 - val_acc: 0.6012\n",
      "Epoch 58/75\n",
      "3779/3779 [==============================] - 45s 12ms/sample - loss: 0.6877 - acc: 0.5462 - val_loss: 0.6737 - val_acc: 0.6012\n",
      "Epoch 59/75\n"
     ]
    },
    {
     "name": "stdout",
     "output_type": "stream",
     "text": [
      "3779/3779 [==============================] - 44s 12ms/sample - loss: 0.6873 - acc: 0.5454 - val_loss: 0.6731 - val_acc: 0.6012\n",
      "Epoch 60/75\n",
      "3779/3779 [==============================] - 44s 12ms/sample - loss: 0.6889 - acc: 0.5409 - val_loss: 0.6765 - val_acc: 0.6012\n",
      "Epoch 61/75\n",
      "3779/3779 [==============================] - 45s 12ms/sample - loss: 0.6875 - acc: 0.5480 - val_loss: 0.7514 - val_acc: 0.3988\n",
      "Epoch 62/75\n",
      "3779/3779 [==============================] - 45s 12ms/sample - loss: 0.6887 - acc: 0.5396 - val_loss: 0.6816 - val_acc: 0.6012\n",
      "Epoch 63/75\n",
      "3779/3779 [==============================] - 44s 12ms/sample - loss: 0.6857 - acc: 0.5525 - val_loss: 0.6741 - val_acc: 0.6012\n",
      "Epoch 64/75\n",
      "3779/3779 [==============================] - 44s 12ms/sample - loss: 0.6857 - acc: 0.5594 - val_loss: 317.5104 - val_acc: 0.3988\n",
      "Epoch 65/75\n",
      "3779/3779 [==============================] - 44s 12ms/sample - loss: 0.6891 - acc: 0.5435 - val_loss: 0.6772 - val_acc: 0.6012\n",
      "Epoch 66/75\n",
      "3779/3779 [==============================] - 45s 12ms/sample - loss: 0.6879 - acc: 0.5520 - val_loss: 0.6766 - val_acc: 0.6012\n",
      "Epoch 67/75\n",
      "3779/3779 [==============================] - 44s 12ms/sample - loss: 0.6868 - acc: 0.5475 - val_loss: 8.2601 - val_acc: 0.6012\n",
      "Epoch 68/75\n",
      "3779/3779 [==============================] - 44s 12ms/sample - loss: 0.6875 - acc: 0.5573 - val_loss: 0.8948 - val_acc: 0.4123\n",
      "Epoch 69/75\n",
      "3779/3779 [==============================] - 45s 12ms/sample - loss: 0.6879 - acc: 0.5470 - val_loss: 0.7632 - val_acc: 0.6012\n",
      "Epoch 70/75\n",
      "3779/3779 [==============================] - 44s 12ms/sample - loss: 0.6891 - acc: 0.5438 - val_loss: 0.6786 - val_acc: 0.6012\n",
      "Epoch 71/75\n",
      "3779/3779 [==============================] - 44s 12ms/sample - loss: 0.6872 - acc: 0.5549 - val_loss: 0.6767 - val_acc: 0.6012\n",
      "Epoch 72/75\n",
      "3779/3779 [==============================] - 44s 12ms/sample - loss: 0.6885 - acc: 0.5470 - val_loss: 0.6784 - val_acc: 0.6012\n",
      "Epoch 73/75\n",
      "3779/3779 [==============================] - 44s 12ms/sample - loss: 0.6868 - acc: 0.5462 - val_loss: 0.6782 - val_acc: 0.5997\n",
      "Epoch 74/75\n",
      "3779/3779 [==============================] - 45s 12ms/sample - loss: 0.6881 - acc: 0.5472 - val_loss: 0.6781 - val_acc: 0.6012\n",
      "Epoch 75/75\n",
      "3779/3779 [==============================] - 44s 12ms/sample - loss: 0.6871 - acc: 0.5435 - val_loss: 0.6779 - val_acc: 0.6012\n"
     ]
    }
   ],
   "source": [
    "# Train the model\n",
    "history = model.fit(x_train, y_train, batch_size = 64, epochs = 75, validation_data = (x_test, y_test))"
   ]
  },
  {
   "cell_type": "code",
   "execution_count": 42,
   "metadata": {},
   "outputs": [
    {
     "data": {
      "image/png": "[encoded data removed]",
      "text/plain": [
       "<Figure size 432x288 with 1 Axes>"
      ]
     },
     "metadata": {
      "needs_background": "light"
     },
     "output_type": "display_data"
    }
   ],
   "source": [
    "plt.plot(history.history['acc'])\n",
    "plt.plot(history.history['val_acc'])\n",
    "plt.title('model accuracy')\n",
    "plt.ylabel('accuracy')\n",
    "plt.xlabel('epoch')\n",
    "plt.legend(['train', 'val'], loc='upper left')\n",
    "plt.show()"
   ]
  },
  {
   "cell_type": "code",
   "execution_count": 100,
   "metadata": {},
   "outputs": [
    {
     "name": "stdout",
     "output_type": "stream",
     "text": [
      "[array([3, 3, 3, 3, 3]) array([2, 2, 2, 2, 2]) array([1, 1, 1, 1])]\n"
     ]
    }
   ],
   "source": [
    "x = np.array([np.array([1,1,1,1]),np.array([2,2,2,2,2]),np.array([3,3,3,3,3])])\n",
    "x = x[np.array([2,1,0])]\n",
    "print(x)"
   ]
  },
  {
   "cell_type": "code",
   "execution_count": 107,
   "metadata": {},
   "outputs": [
    {
     "name": "stdout",
     "output_type": "stream",
     "text": [
      "(3779, 15, 12)\n"
     ]
    }
   ],
   "source": [
    "print(x_train.shape)\n"
   ]
  },
  {
   "cell_type": "code",
   "execution_count": null,
   "metadata": {},
   "outputs": [],
   "source": []
  },
  {
   "cell_type": "code",
   "execution_count": null,
   "metadata": {},
   "outputs": [],
   "source": []
  },
  {
   "cell_type": "code",
   "execution_count": null,
   "metadata": {},
   "outputs": [],
   "source": []
  },
  {
   "cell_type": "code",
   "execution_count": null,
   "metadata": {},
   "outputs": [],
   "source": []
  },
  {
   "cell_type": "code",
   "execution_count": null,
   "metadata": {},
   "outputs": [],
   "source": []
  },
  {
   "cell_type": "code",
   "execution_count": null,
   "metadata": {},
   "outputs": [],
   "source": []
  },
  {
   "cell_type": "code",
   "execution_count": null,
   "metadata": {},
   "outputs": [],
   "source": []
  },
  {
   "cell_type": "code",
   "execution_count": null,
   "metadata": {},
   "outputs": [],
   "source": []
  },
  {
   "cell_type": "code",
   "execution_count": null,
   "metadata": {},
   "outputs": [],
   "source": []
  },
  {
   "cell_type": "code",
   "execution_count": null,
   "metadata": {},
   "outputs": [],
   "source": []
  }
 ],
 "metadata": {
  "kernelspec": {
   "display_name": "Python 3",
   "language": "python",
   "name": "python3"
  },
  "language_info": {
   "codemirror_mode": {
    "name": "ipython",
    "version": 3
   },
   "file_extension": ".py",
   "mimetype": "text/x-python",
   "name": "python",
   "nbconvert_exporter": "python",
   "pygments_lexer": "ipython3",
   "version": "3.6.9"
  }
 },
 "nbformat": 4,
 "nbformat_minor": 4
}
