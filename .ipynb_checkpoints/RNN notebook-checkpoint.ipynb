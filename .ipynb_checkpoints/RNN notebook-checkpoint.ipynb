{
 "cells": [
  {
   "cell_type": "code",
   "execution_count": 1,
   "metadata": {},
   "outputs": [
    {
     "name": "stderr",
     "output_type": "stream",
     "text": [
      "/home/juan/.local/lib/python3.6/site-packages/pandas_datareader/compat/__init__.py:7: FutureWarning: pandas.util.testing is deprecated. Use the functions in the public API at pandas.testing instead.\n",
      "  from pandas.util.testing import assert_frame_equal\n"
     ]
    }
   ],
   "source": [
    "from pandas_datareader import data as pdr \n",
    "from datetime import date\n",
    "import yfinance as yf \n",
    "yf.pdr_override()\n",
    "import pandas as pd\n",
    "import matplotlib.pyplot as plt \n",
    "import math\n",
    "import quandl\n",
    "import numpy as np"
   ]
  },
  {
   "cell_type": "code",
   "execution_count": 2,
   "metadata": {},
   "outputs": [],
   "source": [
    "ticker_sp = '^GSPC'\n",
    "ticker_gold = 'GC=F'\n",
    "ticker_oil = 'CL=F'\n",
    "ticker_dax = '^GDAXI'\n",
    "ticker_nikkei = '^N225'\n",
    "ticker_ftse = '^FTSE'\n",
    "ticker_shanghai = '000001.SS'\n",
    "\n",
    "auth_tok = \"Nv1rJgRR7u88iz_dg7Y6\"\n",
    "\n",
    "end_date = \"2020-05-1\"\n",
    "start_date = \"2000-01-01\""
   ]
  },
  {
   "cell_type": "code",
   "execution_count": 3,
   "metadata": {},
   "outputs": [],
   "source": [
    "def getGOLDData ():\n",
    "    # Contains price and volume\n",
    "    data = quandl.get(\"CHRIS/CME_GC1\", trim_start = start_date, trim_end = end_date, authtoken=auth_tok)\n",
    "    data = data[['Last', 'Volume']]\n",
    "    data.columns = [\"GOLD Adj Close\", \"GOLD Volume\"]\n",
    "    return data.dropna()\n",
    "\n",
    "def getSPData():\n",
    "    # Contains price and volume\n",
    "    data = pdr.get_data_yahoo(ticker_sp, start=start_date, end=end_date)\n",
    "    data = data[data.columns[4:6]] \n",
    "    data.columns = [\"SP500 Adj Close\",  \"SP500 Volume\"]\n",
    "    return data\n",
    "\n",
    "def getDAXData():\n",
    "    # Contains price and volume\n",
    "    data = pdr.get_data_yahoo(ticker_dax, start=start_date, end=end_date)\n",
    "    data = data[data.columns[4:6]]\n",
    "    data.columns = [\"DAX Adj Close\",  \"DAX Volume\"]\n",
    "    return data\n",
    "\n",
    "\n",
    "def getOILData():\n",
    "    # Contains price and volume\n",
    "    data = quandl.get(\"CHRIS/CME_CL1\", trim_start = start_date, trim_end = end_date, authtoken=auth_tok)\n",
    "    data = data[[\"Last\", \"Volume\"]]\n",
    "    data.columns=[\"OIL Adj Close\", \"OIL Volume\"]\n",
    "    return data.dropna()\n",
    "\n",
    "\n",
    "def getNIKKEIData():\n",
    "    # Contains only price\n",
    "    data = pdr.get_data_yahoo(ticker_nikkei, start=start_date, end=end_date)\n",
    "    data = data[data.columns[4:5]] \n",
    "    data.columns = [\"NIKKEI Adj Close\"]\n",
    "    return data\n",
    "\n",
    "\n",
    "def getFTSEData():\n",
    "    # Contains price and volume\n",
    "    data = pdr.get_data_yahoo(ticker_ftse, start=start_date, end=end_date)\n",
    "    data = data[data.columns[4:6]] \n",
    "    data.columns = [\"FTSE Adj Close\",  \"FTSE Volume\"]\n",
    "    return data\n",
    "\n",
    "def getSHANGHAIData():\n",
    "    # Contains only price\n",
    "    data = pdr.get_data_yahoo(ticker_shanghai, start=start_date, end=end_date)\n",
    "    data = data[data.columns[4:5]] \n",
    "    data.columns = [\"SHANGHAI Adj Close\"]\n",
    "    return data"
   ]
  },
  {
   "cell_type": "code",
   "execution_count": 4,
   "metadata": {},
   "outputs": [],
   "source": [
    "def checkData (data):\n",
    "    counter = 0\n",
    "    for index, row in data.iterrows():\n",
    "        for item in row:\n",
    "            if (math.isnan(item)):\n",
    "                counter += 1\n",
    "                break\n",
    "    return counter\n",
    "\n",
    "def normalizeData(data):\n",
    "    for column in data:\n",
    "        maxValue = max(data[column])\n",
    "        data[column] = data[column] / maxValue"
   ]
  },
  {
   "cell_type": "code",
   "execution_count": 5,
   "metadata": {},
   "outputs": [],
   "source": [
    "def combineData():\n",
    "    allData = [getSPData(), getGOLDData(), getDAXData(), getOILData(), getNIKKEIData(), getSHANGHAIData(), getFTSEData()]\n",
    "    mergedData = pd.concat(allData, axis = 1)\n",
    "    print(\"REMOVED: {} DATA POINTS\".format(checkData(mergedData)))\n",
    "    cleanData = mergedData.dropna()\n",
    "    normalizeData(cleanData)\n",
    "    return cleanData"
   ]
  },
  {
   "cell_type": "code",
   "execution_count": 15,
   "metadata": {},
   "outputs": [
    {
     "name": "stdout",
     "output_type": "stream",
     "text": [
      "[*********************100%***********************]  1 of 1 completed\n",
      "[*********************100%***********************]  1 of 1 completed\n",
      "[*********************100%***********************]  1 of 1 completed\n",
      "[*********************100%***********************]  1 of 1 completed\n",
      "[*********************100%***********************]  1 of 1 completed\n",
      "REMOVED: 831 DATA POINTS\n",
      "            SP500 Adj Close  SP500 Volume  GOLD Adj Close  GOLD Volume  \\\n",
      "Date                                                                     \n",
      "2000-01-04         0.413278      0.088074        0.150209     0.038545   \n",
      "2000-01-05         0.414072      0.094752        0.149362     0.027149   \n",
      "2000-01-06         0.414468      0.095346        0.149521     0.031954   \n",
      "2000-01-07         0.425696      0.106946        0.149786     0.023927   \n",
      "2000-01-11         0.424836      0.088511        0.150580     0.038427   \n",
      "...                     ...           ...             ...          ...   \n",
      "2020-04-23         0.826248      0.502479        0.922010     0.000605   \n",
      "2020-04-24         0.837748      0.469132        0.907979     0.000278   \n",
      "2020-04-27         0.850075      0.453400        0.908932     0.000212   \n",
      "2020-04-28         0.845618      0.495179        0.905332     0.000132   \n",
      "2020-04-30         0.860101      0.569395        0.893789     0.000411   \n",
      "\n",
      "            DAX Adj Close  DAX Volume  OIL Adj Close  OIL Volume  \\\n",
      "Date                                                               \n",
      "2000-01-04       0.477696    0.091491       0.175855    0.042691   \n",
      "2000-01-05       0.471540    0.103260       0.171450    0.040496   \n",
      "2000-01-06       0.469571    0.080715       0.170555    0.048664   \n",
      "2000-01-07       0.491766    0.109877       0.166701    0.052417   \n",
      "2000-01-11       0.499764    0.086026       0.177369    0.060787   \n",
      "...                   ...         ...            ...         ...   \n",
      "2020-04-23       0.762477    0.191902       0.116113    0.466582   \n",
      "2020-04-24       0.749590    0.235273       0.118246    0.340371   \n",
      "2020-04-27       0.773079    0.240058       0.088926    0.352183   \n",
      "2020-04-28       0.782916    0.287243       0.091335    0.504462   \n",
      "2020-04-30       0.787703    0.318963       0.131392    0.306740   \n",
      "\n",
      "            NIKKEI Adj Close  SHANGHAI Adj Close  FTSE Adj Close  FTSE Volume  \n",
      "Date                                                                           \n",
      "2000-01-04          0.787711            0.230853        0.855919     0.143284  \n",
      "2000-01-05          0.768630            0.231397        0.839227     0.151604  \n",
      "2000-01-06          0.753115            0.240303        0.827838     0.177684  \n",
      "2000-01-07          0.754158            0.248948        0.835234     0.200931  \n",
      "2000-01-11          0.781413            0.242903        0.837044     0.195210  \n",
      "...                      ...                 ...             ...          ...  \n",
      "2020-04-23          0.805394            0.465934        0.748151     0.199531  \n",
      "2020-04-24          0.798453            0.461015        0.738598     0.182952  \n",
      "2020-04-27          0.820059            0.462158        0.750745     0.179203  \n",
      "2020-04-28          0.819560            0.461260        0.765087     0.270723  \n",
      "2020-04-30          0.837074            0.469477        0.757730     0.437316  \n",
      "\n",
      "[4464 rows x 12 columns]\n"
     ]
    },
    {
     "name": "stderr",
     "output_type": "stream",
     "text": [
      "/home/juan/.local/lib/python3.6/site-packages/ipykernel_launcher.py:13: SettingWithCopyWarning: \n",
      "A value is trying to be set on a copy of a slice from a DataFrame.\n",
      "Try using .loc[row_indexer,col_indexer] = value instead\n",
      "\n",
      "See the caveats in the documentation: https://pandas.pydata.org/pandas-docs/stable/user_guide/indexing.html#returning-a-view-versus-a-copy\n",
      "  del sys.path[0]\n"
     ]
    }
   ],
   "source": [
    "data = combineData()\n",
    "\n",
    "print(data)\n",
    "\n",
    "day_counter = 0\n",
    "\n",
    "# Size of prediction\n",
    "prediction_size = 5\n",
    "\n",
    "# Size of available data.\n",
    "data_size = len(data) - prediction_size\n",
    "\n",
    "# Size of data alocated to training\n",
    "size_training = int(0.75*data_size)\n",
    "\n",
    "# Size of data alocated to testing\n",
    "size_testing = data_size - size_training\n",
    "\n",
    "# Number of data elements in a single day\n",
    "size_day = 12 \n",
    "\n",
    "# Number of days in the past\n",
    "size_historical = 15\n",
    "\n",
    "x_train = np.zeros((size_training, size_historical, size_day))\n",
    "x_test  = np.zeros((size_testing, size_historical, size_day))"
   ]
  },
  {
   "cell_type": "code",
   "execution_count": 26,
   "metadata": {},
   "outputs": [
    {
     "name": "stdout",
     "output_type": "stream",
     "text": [
      "100% completed\n"
     ]
    }
   ],
   "source": [
    "day_counter = 0\n",
    "\n",
    "for index, row in data.iterrows():\n",
    "    \n",
    "    if (day_counter == len(data) - 15):\n",
    "        print(\"100% completed\")\n",
    "        break\n",
    "\n",
    "    if (day_counter < len(x_train)):\n",
    "        \n",
    "        for i in range (size_historical):\n",
    "            for j in range (size_day):\n",
    "                x_train[day_counter][i][j] = data.iloc[day_counter + i][j]\n",
    "        \n",
    "    else:\n",
    "        \n",
    "        for i in range (size_historical):\n",
    "            for j in range (size_day):\n",
    "                x_test[day_counter - len(x_train)][i][j] = data.iloc[day_counter + i][j]\n",
    "                \n",
    "                \n",
    "        \n",
    "    day_counter += 1\n",
    "    print(\"{}% completed\".format(int(100 * day_counter/data_size)), end = '\\r')"
   ]
  },
  {
   "cell_type": "code",
   "execution_count": 28,
   "metadata": {},
   "outputs": [
    {
     "name": "stdout",
     "output_type": "stream",
     "text": [
      "[[0.41407204 0.09475194 0.149362   0.02714876 0.47154035 0.10326\n",
      "  0.1714502  0.04049636 0.76863021 0.23139671 0.839227   0.15160417]\n",
      " [0.41446776 0.0953455  0.14952083 0.03195419 0.46957139 0.08071532\n",
      "  0.17055544 0.04866368 0.75311541 0.2403034  0.82783772 0.1776841 ]\n",
      " [0.42569585 0.10694618 0.14978557 0.02392672 0.4917659  0.10987727\n",
      "  0.16670108 0.0524174  0.75415755 0.24894776 0.83523367 0.20093116]\n",
      " [0.4248365  0.08851079 0.15057976 0.03842715 0.4997643  0.08602583\n",
      "  0.1773694  0.06078679 0.7814128  0.24290334 0.83704416 0.19520953]\n",
      " [0.42297301 0.08507162 0.15020914 0.01695149 0.50132787 0.06798001\n",
      "  0.18087962 0.05351852 0.77422084 0.23604835 0.83882894 0.17641107]\n",
      " [0.42812046 0.08994233 0.15095039 0.02240234 0.50445863 0.09430932\n",
      "  0.18370156 0.05149781 0.78068196 0.23381954 0.83866204 0.19584741]\n",
      " [0.43268906 0.09478685 0.1508445  0.01528271 0.52021323 0.0922017\n",
      "  0.19285567 0.03927595 0.78579144 0.23125982 0.85493069 0.24850468]\n",
      " [0.4297329  0.09223802 0.15333298 0.04060699 0.51288129 0.09171522\n",
      "  0.19856838 0.03721528 0.79574078 0.23417756 0.83520802 0.19332962]\n",
      " [0.42995735 0.0949527  0.15370361 0.03593089 0.51425339 0.08554856\n",
      "  0.2033175  0.03995009 0.78335401 0.2364922  0.82761941 0.19536222]\n",
      " [0.42690666 0.09607873 0.15317414 0.03025779 0.51582132 0.09096825\n",
      "  0.20414344 0.03995009 0.78792453 0.24078288 0.81519006 0.22804367]\n",
      " [0.42566337 0.10560193 0.15338593 0.02600108 0.50712524 0.09304647\n",
      "  0.19409457 0.05192878 0.78253905 0.24049101 0.81488184 0.22799052]\n",
      " [0.41390076 0.09739679 0.15253878 0.03230327 0.50271885 0.06560837\n",
      "  0.19154794 0.03290215 0.7899433  0.24250331 0.81918333 0.15202783]\n",
      " [0.41641099 0.09372193 0.15174459 0.04035711 0.49384583 0.08775027\n",
      "  0.19464519 0.03110178 0.78326196 0.24236575 0.80561121 0.18216233]\n",
      " [0.41465677 0.09752772 0.15169164 0.04535717 0.5054297  0.07957281\n",
      "  0.19161677 0.0383438  0.79220156 0.24312263 0.81864408 0.23113193]\n",
      " [0.41302367 0.09859264 0.15200932 0.02465249 0.51679816 0.08585786\n",
      "  0.18803772 0.0508739  0.7962859  0.24733303 0.8270416  0.18471065]]\n"
     ]
    }
   ],
   "source": [
    "print(x_train[1])"
   ]
  },
  {
   "cell_type": "code",
   "execution_count": null,
   "metadata": {},
   "outputs": [],
   "source": []
  }
 ],
 "metadata": {
  "kernelspec": {
   "display_name": "Python 3",
   "language": "python",
   "name": "python3"
  },
  "language_info": {
   "codemirror_mode": {
    "name": "ipython",
    "version": 3
   },
   "file_extension": ".py",
   "mimetype": "text/x-python",
   "name": "python",
   "nbconvert_exporter": "python",
   "pygments_lexer": "ipython3",
   "version": "3.6.9"
  }
 },
 "nbformat": 4,
 "nbformat_minor": 4
}
