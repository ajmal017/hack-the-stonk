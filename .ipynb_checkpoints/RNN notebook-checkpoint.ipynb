{
 "cells": [
  {
   "cell_type": "code",
   "execution_count": 1,
   "metadata": {},
   "outputs": [
    {
     "name": "stderr",
     "output_type": "stream",
     "text": [
      "/home/juan/.local/lib/python3.6/site-packages/pandas_datareader/compat/__init__.py:7: FutureWarning: pandas.util.testing is deprecated. Use the functions in the public API at pandas.testing instead.\n",
      "  from pandas.util.testing import assert_frame_equal\n"
     ]
    }
   ],
   "source": [
    "from pandas_datareader import data as pdr \n",
    "from datetime import date\n",
    "import yfinance as yf \n",
    "yf.pdr_override()\n",
    "import pandas as pd\n",
    "import matplotlib.pyplot as plt \n",
    "import math\n",
    "import quandl\n",
    "import numpy as np"
   ]
  },
  {
   "cell_type": "code",
   "execution_count": 2,
   "metadata": {},
   "outputs": [],
   "source": [
    "ticker_sp = '^GSPC'\n",
    "ticker_gold = 'GC=F'\n",
    "ticker_oil = 'CL=F'\n",
    "ticker_dax = '^GDAXI'\n",
    "ticker_nikkei = '^N225'\n",
    "ticker_ftse = '^FTSE'\n",
    "ticker_shanghai = '000001.SS'\n",
    "\n",
    "auth_tok = \"Nv1rJgRR7u88iz_dg7Y6\"\n",
    "\n",
    "end_date = \"2020-05-1\"\n",
    "start_date = \"2000-01-01\""
   ]
  },
  {
   "cell_type": "code",
   "execution_count": 3,
   "metadata": {},
   "outputs": [],
   "source": [
    "def getGOLDData ():\n",
    "    # Contains price and volume\n",
    "    data = quandl.get(\"CHRIS/CME_GC1\", trim_start = start_date, trim_end = end_date, authtoken=auth_tok)\n",
    "    data = data[['Last', 'Volume']]\n",
    "    data.columns = [\"GOLD Adj Close\", \"GOLD Volume\"]\n",
    "    return data.dropna()\n",
    "\n",
    "def getSPData():\n",
    "    # Contains price and volume\n",
    "    data = pdr.get_data_yahoo(ticker_sp, start=start_date, end=end_date)\n",
    "    data = data[data.columns[4:6]] \n",
    "    data.columns = [\"SP500 Adj Close\",  \"SP500 Volume\"]\n",
    "    return data\n",
    "\n",
    "def getDAXData():\n",
    "    # Contains price and volume\n",
    "    data = pdr.get_data_yahoo(ticker_dax, start=start_date, end=end_date)\n",
    "    data = data[data.columns[4:6]]\n",
    "    data.columns = [\"DAX Adj Close\",  \"DAX Volume\"]\n",
    "    return data\n",
    "\n",
    "\n",
    "def getOILData():\n",
    "    # Contains price and volume\n",
    "    data = quandl.get(\"CHRIS/CME_CL1\", trim_start = start_date, trim_end = end_date, authtoken=auth_tok)\n",
    "    data = data[[\"Last\", \"Volume\"]]\n",
    "    data.columns=[\"OIL Adj Close\", \"OIL Volume\"]\n",
    "    return data.dropna()\n",
    "\n",
    "\n",
    "def getNIKKEIData():\n",
    "    # Contains only price\n",
    "    data = pdr.get_data_yahoo(ticker_nikkei, start=start_date, end=end_date)\n",
    "    data = data[data.columns[4:5]] \n",
    "    data.columns = [\"NIKKEI Adj Close\"]\n",
    "    return data\n",
    "\n",
    "\n",
    "def getFTSEData():\n",
    "    # Contains price and volume\n",
    "    data = pdr.get_data_yahoo(ticker_ftse, start=start_date, end=end_date)\n",
    "    data = data[data.columns[4:6]] \n",
    "    data.columns = [\"FTSE Adj Close\",  \"FTSE Volume\"]\n",
    "    return data\n",
    "\n",
    "def getSHANGHAIData():\n",
    "    # Contains only price\n",
    "    data = pdr.get_data_yahoo(ticker_shanghai, start=start_date, end=end_date)\n",
    "    data = data[data.columns[4:5]] \n",
    "    data.columns = [\"SHANGHAI Adj Close\"]\n",
    "    return data"
   ]
  },
  {
   "cell_type": "code",
   "execution_count": 4,
   "metadata": {},
   "outputs": [],
   "source": [
    "def checkData (data):\n",
    "    counter = 0\n",
    "    for index, row in data.iterrows():\n",
    "        for item in row:\n",
    "            if (math.isnan(item)):\n",
    "                counter += 1\n",
    "                break\n",
    "    return counter\n",
    "\n",
    "def normalizeData(data):\n",
    "    for column in data:\n",
    "        maxValue = max(data[column])\n",
    "        data[column] = data[column] / maxValue"
   ]
  },
  {
   "cell_type": "code",
   "execution_count": 5,
   "metadata": {},
   "outputs": [],
   "source": [
    "def combineData():\n",
    "    allData = [getSPData(), getGOLDData(), getDAXData(), getOILData(), getNIKKEIData(), getSHANGHAIData(), getFTSEData()]\n",
    "    mergedData = pd.concat(allData, axis = 1)\n",
    "    print(\"REMOVED: {} DATA POINTS\".format(checkData(mergedData)))\n",
    "    cleanData = mergedData.dropna()\n",
    "    normalizeData(cleanData)\n",
    "    return cleanData"
   ]
  },
  {
   "cell_type": "code",
   "execution_count": 30,
   "metadata": {
    "scrolled": true
   },
   "outputs": [
    {
     "name": "stdout",
     "output_type": "stream",
     "text": [
      "[*********************100%***********************]  1 of 1 completed\n",
      "[*********************100%***********************]  1 of 1 completed\n",
      "[*********************100%***********************]  1 of 1 completed\n",
      "[*********************100%***********************]  1 of 1 completed\n",
      "[*********************100%***********************]  1 of 1 completed\n",
      "REMOVED: 831 DATA POINTS\n",
      "            SP500 Adj Close  SP500 Volume  GOLD Adj Close  GOLD Volume  \\\n",
      "Date                                                                     \n",
      "2000-01-04         0.413278      0.088074        0.150209     0.038545   \n",
      "2000-01-05         0.414072      0.094752        0.149362     0.027149   \n",
      "2000-01-06         0.414468      0.095346        0.149521     0.031954   \n",
      "2000-01-07         0.425696      0.106946        0.149786     0.023927   \n",
      "2000-01-11         0.424836      0.088511        0.150580     0.038427   \n",
      "...                     ...           ...             ...          ...   \n",
      "2020-04-23         0.826248      0.502479        0.922010     0.000605   \n",
      "2020-04-24         0.837748      0.469132        0.907979     0.000278   \n",
      "2020-04-27         0.850075      0.453400        0.908932     0.000212   \n",
      "2020-04-28         0.845618      0.495179        0.905332     0.000132   \n",
      "2020-04-30         0.860101      0.569395        0.893789     0.000411   \n",
      "\n",
      "            DAX Adj Close  DAX Volume  OIL Adj Close  OIL Volume  \\\n",
      "Date                                                               \n",
      "2000-01-04       0.477696    0.091491       0.175855    0.042691   \n",
      "2000-01-05       0.471540    0.103260       0.171450    0.040496   \n",
      "2000-01-06       0.469571    0.080715       0.170555    0.048664   \n",
      "2000-01-07       0.491766    0.109877       0.166701    0.052417   \n",
      "2000-01-11       0.499764    0.086026       0.177369    0.060787   \n",
      "...                   ...         ...            ...         ...   \n",
      "2020-04-23       0.762477    0.191902       0.116113    0.466582   \n",
      "2020-04-24       0.749590    0.235273       0.118246    0.340371   \n",
      "2020-04-27       0.773079    0.240058       0.088926    0.352183   \n",
      "2020-04-28       0.782916    0.287243       0.091335    0.504462   \n",
      "2020-04-30       0.787703    0.318963       0.131392    0.306740   \n",
      "\n",
      "            NIKKEI Adj Close  SHANGHAI Adj Close  FTSE Adj Close  FTSE Volume  \n",
      "Date                                                                           \n",
      "2000-01-04          0.787711            0.230853        0.855919     0.143284  \n",
      "2000-01-05          0.768630            0.231397        0.839227     0.151604  \n",
      "2000-01-06          0.753115            0.240303        0.827838     0.177684  \n",
      "2000-01-07          0.754158            0.248948        0.835234     0.200931  \n",
      "2000-01-11          0.781413            0.242903        0.837044     0.195210  \n",
      "...                      ...                 ...             ...          ...  \n",
      "2020-04-23          0.805394            0.465934        0.748151     0.199531  \n",
      "2020-04-24          0.798453            0.461015        0.738598     0.182952  \n",
      "2020-04-27          0.820059            0.462158        0.750745     0.179203  \n",
      "2020-04-28          0.819560            0.461260        0.765087     0.270723  \n",
      "2020-04-30          0.837074            0.469477        0.757730     0.437316  \n",
      "\n",
      "[4464 rows x 12 columns]\n"
     ]
    },
    {
     "name": "stderr",
     "output_type": "stream",
     "text": [
      "/home/juan/.local/lib/python3.6/site-packages/ipykernel_launcher.py:13: SettingWithCopyWarning: \n",
      "A value is trying to be set on a copy of a slice from a DataFrame.\n",
      "Try using .loc[row_indexer,col_indexer] = value instead\n",
      "\n",
      "See the caveats in the documentation: https://pandas.pydata.org/pandas-docs/stable/user_guide/indexing.html#returning-a-view-versus-a-copy\n",
      "  del sys.path[0]\n"
     ]
    }
   ],
   "source": [
    "data = combineData()\n",
    "\n",
    "print(data)\n",
    "\n",
    "day_counter = 0\n",
    "\n",
    "# Size of prediction\n",
    "prediction_size = 3\n",
    "\n",
    "# Number of days in the past\n",
    "historical_size = 15\n",
    "\n",
    "# Size of available data.\n",
    "data_size = len(data) - prediction_size - historical_size\n",
    "\n",
    "# Size of data alocated to training\n",
    "training_size = int(0.85*data_size)\n",
    "\n",
    "# Size of data alocated to testing\n",
    "testing_size = data_size - training_size\n",
    "\n",
    "# Number of data elements in a single day\n",
    "daily_data_size = 12 \n",
    "\n",
    "x_train = np.zeros((training_size, historical_size, daily_data_size))\n",
    "y_train = np.zeros((training_size))\n",
    "x_test  = np.zeros((testing_size, historical_size, daily_data_size))\n",
    "y_test  = np.zeros((testing_size))"
   ]
  },
  {
   "cell_type": "code",
   "execution_count": 50,
   "metadata": {},
   "outputs": [
    {
     "name": "stdout",
     "output_type": "stream",
     "text": [
      "100% completed\n"
     ]
    }
   ],
   "source": [
    "day_counter = 0\n",
    "\n",
    "for index, row in data.iterrows():\n",
    "    \n",
    "    if (day_counter == data_size):\n",
    "        print(\"100% completed\")\n",
    "        break\n",
    "\n",
    "    if (day_counter < len(x_train)):\n",
    "        \n",
    "        \n",
    "        for i in range (historical_size):\n",
    "            for j in range (daily_data_size):\n",
    "                x_train[day_counter][i][j] = data.iloc[day_counter + i][j]\n",
    "                \n",
    "        base_value = data.iloc[day_counter + historical_size - 1]['SP500 Adj Close']\n",
    "        future_values = []\n",
    "        for i in range (prediction_size):\n",
    "            future_values += [data.iloc[day_counter + historical_size + i]['SP500 Adj Close']] \n",
    "        average_future = sum(future_values) / len(future_values)\n",
    "        if ((average_future - base_value) > 0):\n",
    "            delta = 1\n",
    "        else:\n",
    "            delta = 0\n",
    "            \n",
    "        y_train[day_counter] = delta\n",
    "        \n",
    "        \n",
    "    else:\n",
    "        \n",
    "        for i in range (historical_size):\n",
    "            for j in range (daily_data_size):\n",
    "                x_test[day_counter - len(x_train)][i][j] = data.iloc[day_counter + i][j]\n",
    "                \n",
    "        base_value = data.iloc[day_counter + historical_size - 1]['SP500 Adj Close']\n",
    "        future_values = []\n",
    "        for i in range (prediction_size):\n",
    "            future_values += [data.iloc[day_counter + historical_size + i]['SP500 Adj Close']] \n",
    "        average_future = sum(future_values) / len(future_values)\n",
    "        if ((average_future - base_value) > 0):\n",
    "            delta = 1\n",
    "        else:\n",
    "            delta = 0\n",
    "            \n",
    "        y_test[day_counter - len(y_train)] = delta\n",
    "        \n",
    "    day_counter += 1\n",
    "    print(\"{}% completed\".format(int(100 * day_counter/data_size)), end = '\\r')"
   ]
  },
  {
   "cell_type": "code",
   "execution_count": 51,
   "metadata": {
    "scrolled": true
   },
   "outputs": [
    {
     "name": "stdout",
     "output_type": "stream",
     "text": [
      "[[[0.66896033 0.27519612 0.64478213 ... 0.51489584 0.9182332  0.16154064]\n",
      "  [0.67335178 0.33265394 0.63991105 ... 0.51584431 0.91811759 0.24228033]\n",
      "  [0.67875616 0.33571428 0.63556944 ... 0.51699366 0.91992808 0.22391463]\n",
      "  ...\n",
      "  [0.69378204 0.32956653 0.65150633 ... 0.52740577 0.93764765 0.16205741]\n",
      "  [0.69318253 0.32055659 0.65537142 ... 0.53013586 0.93450179 0.15473031]\n",
      "  [0.69434608 0.30665062 0.65378303 ... 0.52561489 0.9373395  0.18136051]]\n",
      "\n",
      " [[0.67335178 0.33265394 0.63991105 ... 0.51584431 0.91811759 0.24228033]\n",
      "  [0.67875616 0.33571428 0.63556944 ... 0.51699366 0.91992808 0.22391463]\n",
      "  [0.67825702 0.31514381 0.62905702 ... 0.51857131 0.91955573 0.20485719]\n",
      "  ...\n",
      "  [0.69318253 0.32055659 0.65537142 ... 0.53013586 0.93450179 0.15473031]\n",
      "  [0.69434608 0.30665062 0.65378303 ... 0.52561489 0.9373395  0.18136051]\n",
      "  [0.69854553 0.31247452 0.65500079 ... 0.53402748 0.93410372 0.20288735]]\n",
      "\n",
      " [[0.67875616 0.33571428 0.63556944 ... 0.51699366 0.91992808 0.22391463]\n",
      "  [0.67825702 0.31514381 0.62905702 ... 0.51857131 0.91955573 0.20485719]\n",
      "  [0.67847555 0.3140623  0.64578811 ... 0.51545313 0.92299689 0.17791109]\n",
      "  ...\n",
      "  [0.69434608 0.30665062 0.65378303 ... 0.52561489 0.9373395  0.18136051]\n",
      "  [0.69854553 0.31247452 0.65500079 ... 0.53402748 0.93410372 0.20288735]\n",
      "  [0.69778957 0.30277587 0.65230052 ... 0.53532295 0.9376348  0.25928648]]\n",
      "\n",
      " ...\n",
      "\n",
      " [[0.77671401 0.67676365 0.87917615 ... 0.45385505 0.74675144 0.34760403]\n",
      "  [0.77570396 0.50158036 0.85662096 ... 0.45095016 0.71439396 0.25715653]\n",
      "  [0.76328283 0.57333783 0.8350188  ... 0.45145603 0.72829995 0.36239132]\n",
      "  ...\n",
      "  [0.84891695 0.50558866 0.89294224 ... 0.46593377 0.74306626 0.27235927]\n",
      "  [0.83373743 0.45566124 0.90067242 ... 0.46824134 0.74637902 0.18607185]\n",
      "  [0.8081627  0.44306286 0.88611214 ... 0.46404899 0.72431947 0.20101177]]\n",
      "\n",
      " [[0.77570396 0.50158036 0.85662096 ... 0.45095016 0.71439396 0.25715653]\n",
      "  [0.76328283 0.57333783 0.8350188  ... 0.45145603 0.72829995 0.36239132]\n",
      "  [0.72958967 0.51918476 0.84184889 ... 0.44886676 0.70038522 0.37782903]\n",
      "  ...\n",
      "  [0.83373743 0.45566124 0.90067242 ... 0.46824134 0.74637902 0.18607185]\n",
      "  [0.8081627  0.44306286 0.88611214 ... 0.46404899 0.72431947 0.20101177]\n",
      "  [0.82669407 0.44077851 0.91353841 ... 0.4668341  0.74096046 0.19611167]]\n",
      "\n",
      " [[0.76328283 0.57333783 0.8350188  ... 0.45145603 0.72829995 0.36239132]\n",
      "  [0.72958967 0.51918476 0.84184889 ... 0.44886676 0.70038522 0.37782903]\n",
      "  [0.74624573 0.56344801 0.86143909 ... 0.45643662 0.70367234 0.35157329]\n",
      "  ...\n",
      "  [0.8081627  0.44306286 0.88611214 ... 0.46404899 0.72431947 0.20101177]\n",
      "  [0.82669407 0.44077851 0.91353841 ... 0.4668341  0.74096046 0.19611167]\n",
      "  [0.82624814 0.50247944 0.92200985 ... 0.46593441 0.74815101 0.1995311 ]]]\n"
     ]
    }
   ],
   "source": [
    "print(x_train)"
   ]
  },
  {
   "cell_type": "code",
   "execution_count": 22,
   "metadata": {},
   "outputs": [
    {
     "name": "stdout",
     "output_type": "stream",
     "text": [
      "            SP500 Adj Close  SP500 Volume  GOLD Adj Close  GOLD Volume  \\\n",
      "Date                                                                     \n",
      "2020-04-16         0.826765      0.452155        0.913433     0.000203   \n",
      "2020-04-17         0.848917      0.505589        0.892942     0.000280   \n",
      "2020-04-20         0.833737      0.455661        0.900672     0.000133   \n",
      "2020-04-21         0.808163      0.443063        0.886112     0.000836   \n",
      "2020-04-22         0.826694      0.440779        0.913538     0.000569   \n",
      "2020-04-23         0.826248      0.502479        0.922010     0.000605   \n",
      "2020-04-24         0.837748      0.469132        0.907979     0.000278   \n",
      "2020-04-27         0.850075      0.453400        0.908932     0.000212   \n",
      "2020-04-28         0.845618      0.495179        0.905332     0.000132   \n",
      "2020-04-30         0.860101      0.569395        0.893789     0.000411   \n",
      "\n",
      "            DAX Adj Close  DAX Volume  OIL Adj Close  OIL Volume  \\\n",
      "Date                                                               \n",
      "2020-04-16       0.747084    0.208021       0.135866    0.193558   \n",
      "2020-04-17       0.770598    0.280954       0.124716    0.133098   \n",
      "2020-04-20       0.774233    0.203081      -0.090164    0.131933   \n",
      "2020-04-21       0.743335    0.237545       0.062358    0.006993   \n",
      "2020-04-22       0.755314    0.181086       0.097942    0.697750   \n",
      "2020-04-23       0.762477    0.191902       0.116113    0.466582   \n",
      "2020-04-24       0.749590    0.235273       0.118246    0.340371   \n",
      "2020-04-27       0.773079    0.240058       0.088926    0.352183   \n",
      "2020-04-28       0.782916    0.287243       0.091335    0.504462   \n",
      "2020-04-30       0.787703    0.318963       0.131392    0.306740   \n",
      "\n",
      "            NIKKEI Adj Close  SHANGHAI Adj Close  FTSE Adj Close  FTSE Volume  \n",
      "Date                                                                           \n",
      "2020-04-16          0.799622            0.462887        0.722702     0.242864  \n",
      "2020-04-17          0.824786            0.465934        0.743066     0.272359  \n",
      "2020-04-20          0.815329            0.468241        0.746379     0.186072  \n",
      "2020-04-21          0.799231            0.464049        0.724319     0.201012  \n",
      "2020-04-22          0.793311            0.466834        0.740960     0.196112  \n",
      "2020-04-23          0.805394            0.465934        0.748151     0.199531  \n",
      "2020-04-24          0.798453            0.461015        0.738598     0.182952  \n",
      "2020-04-27          0.820059            0.462158        0.750745     0.179203  \n",
      "2020-04-28          0.819560            0.461260        0.765087     0.270723  \n",
      "2020-04-30          0.837074            0.469477        0.757730     0.437316  \n"
     ]
    }
   ],
   "source": [
    "print(data.tail(10))"
   ]
  },
  {
   "cell_type": "code",
   "execution_count": 29,
   "metadata": {
    "scrolled": true
   },
   "outputs": [
    {
     "name": "stdout",
     "output_type": "stream",
     "text": [
      "4448\n",
      "3780\n",
      "668\n"
     ]
    }
   ],
   "source": [
    "print(data_size)\n",
    "print(training_size)\n",
    "print(testing_size)"
   ]
  },
  {
   "cell_type": "code",
   "execution_count": 37,
   "metadata": {},
   "outputs": [
    {
     "name": "stdout",
     "output_type": "stream",
     "text": [
      "0.1493619950230317\n"
     ]
    }
   ],
   "source": [
    "print(data.iloc[1]['GOLD Adj Close'])"
   ]
  },
  {
   "cell_type": "code",
   "execution_count": null,
   "metadata": {},
   "outputs": [],
   "source": []
  }
 ],
 "metadata": {
  "kernelspec": {
   "display_name": "Python 3",
   "language": "python",
   "name": "python3"
  },
  "language_info": {
   "codemirror_mode": {
    "name": "ipython",
    "version": 3
   },
   "file_extension": ".py",
   "mimetype": "text/x-python",
   "name": "python",
   "nbconvert_exporter": "python",
   "pygments_lexer": "ipython3",
   "version": "3.6.9"
  }
 },
 "nbformat": 4,
 "nbformat_minor": 4
}
