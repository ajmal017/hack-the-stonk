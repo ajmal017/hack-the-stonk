{
 "cells": [
  {
   "cell_type": "code",
   "execution_count": 1,
   "metadata": {},
   "outputs": [
    {
     "name": "stderr",
     "output_type": "stream",
     "text": [
      "/home/juan/.local/lib/python3.6/site-packages/pandas_datareader/compat/__init__.py:7: FutureWarning: pandas.util.testing is deprecated. Use the functions in the public API at pandas.testing instead.\n",
      "  from pandas.util.testing import assert_frame_equal\n"
     ]
    }
   ],
   "source": [
    "from pandas_datareader import data as pdr \n",
    "from datetime import date\n",
    "import yfinance as yf \n",
    "yf.pdr_override()\n",
    "import pandas as pd\n",
    "import matplotlib.pyplot as plt \n",
    "import math\n",
    "import quandl\n",
    "import numpy as np"
   ]
  },
  {
   "cell_type": "code",
   "execution_count": 2,
   "metadata": {},
   "outputs": [],
   "source": [
    "ticker_sp = '^GSPC'\n",
    "ticker_gold = 'GC=F'\n",
    "ticker_oil = 'CL=F'\n",
    "ticker_dax = '^GDAXI'\n",
    "ticker_nikkei = '^N225'\n",
    "ticker_ftse = '^FTSE'\n",
    "ticker_shanghai = '000001.SS'\n",
    "\n",
    "auth_tok = \"Nv1rJgRR7u88iz_dg7Y6\"\n",
    "\n",
    "end_date = \"2020-06-1\"\n",
    "start_date = \"2000-01-01\""
   ]
  },
  {
   "cell_type": "code",
   "execution_count": 3,
   "metadata": {},
   "outputs": [],
   "source": [
    "def getGOLDData ():\n",
    "    # Contains price and volume\n",
    "    data = quandl.get(\"CHRIS/CME_GC1\", trim_start = start_date, trim_end = end_date, authtoken=auth_tok)\n",
    "    data = data[['Last']]\n",
    "    data.columns = [\"GOLD Adj Close\"]\n",
    "    return data\n",
    "\n",
    "def getSPData():\n",
    "    # Contains price and volume\n",
    "    data = pdr.get_data_yahoo(ticker_sp, start=start_date, end=end_date)\n",
    "    data = data[data.columns[4:6]] \n",
    "    data.columns = [\"SP500 Adj Close\",  \"SP500 Volume\"]\n",
    "    return data\n",
    "\n",
    "def getDAXData():\n",
    "    # Contains price and volume\n",
    "    data = pdr.get_data_yahoo(ticker_dax, start=start_date, end=end_date)\n",
    "    data = data[data.columns[4:6]]\n",
    "    data.columns = [\"DAX Adj Close\",  \"DAX Volume\"]\n",
    "    return data\n",
    "\n",
    "\n",
    "def getOILData():\n",
    "    # Contains price and volume\n",
    "    data = quandl.get(\"CHRIS/CME_CL1\", trim_start = start_date, trim_end = end_date, authtoken=auth_tok)\n",
    "    data = data[[\"Last\"]]\n",
    "    data.columns=[\"OIL Adj Close\"]\n",
    "    return data\n",
    "\n",
    "\n",
    "def getNIKKEIData():\n",
    "    # Contains only price\n",
    "    data = pdr.get_data_yahoo(ticker_nikkei, start=start_date, end=end_date)\n",
    "    data = data[data.columns[4:5]] \n",
    "    data.columns = [\"NIKKEI Adj Close\"]\n",
    "    return data\n",
    "\n",
    "\n",
    "def getFTSEData():\n",
    "    # Contains price and volume\n",
    "    data = pdr.get_data_yahoo(ticker_ftse, start=start_date, end=end_date)\n",
    "    data = data[data.columns[4:6]] \n",
    "    data.columns = [\"FTSE Adj Close\",  \"FTSE Volume\"]\n",
    "    return data\n",
    "\n",
    "def getSHANGHAIData():\n",
    "    # Contains only price\n",
    "    data = pdr.get_data_yahoo(ticker_shanghai, start=start_date, end=end_date)\n",
    "    data = data[data.columns[4:5]] \n",
    "    data.columns = [\"SHANGHAI Adj Close\"]\n",
    "    return data"
   ]
  },
  {
   "cell_type": "code",
   "execution_count": 4,
   "metadata": {},
   "outputs": [],
   "source": [
    "def combineData():\n",
    "    allData = [getSPData(), getDAXData(), getFTSEData(), getGOLDData(), getOILData()]\n",
    "    mergedData = pd.concat(allData, axis = 1)\n",
    "    cleanData = mergedData.dropna()\n",
    "    return cleanData"
   ]
  },
  {
   "cell_type": "code",
   "execution_count": 18,
   "metadata": {
    "collapsed": true
   },
   "outputs": [
    {
     "name": "stdout",
     "output_type": "stream",
     "text": [
      "[*********************100%***********************]  1 of 1 completed\n",
      "[*********************100%***********************]  1 of 1 completed\n",
      "[*********************100%***********************]  1 of 1 completed\n",
      "            SP500 Adj Close  SP500 Volume  DAX Adj Close   DAX Volume  \\\n",
      "Date                                                                    \n",
      "2000-01-04      1399.420044  1.009000e+09    6586.950195   46678400.0   \n",
      "2000-01-05      1402.109985  1.085500e+09    6502.069824   52682800.0   \n",
      "2000-01-06      1403.449951  1.092300e+09    6474.919922   41180600.0   \n",
      "2000-01-07      1441.469971  1.225200e+09    6780.959961   56058900.0   \n",
      "2000-01-10      1457.599976  1.064800e+09    6925.520020   42006200.0   \n",
      "...                     ...           ...            ...          ...   \n",
      "2020-05-15      2863.699951  5.477040e+09   10465.169922  116082600.0   \n",
      "2020-05-18      2953.909912  6.364290e+09   11058.870117  118984900.0   \n",
      "2020-05-19      2922.939941  4.969330e+09   11075.290039  125543400.0   \n",
      "2020-05-20      2971.610107  4.992970e+09   11223.709961   98827200.0   \n",
      "2020-05-21      2948.510010  4.966940e+09   11065.929688   73570300.0   \n",
      "\n",
      "            FTSE Adj Close   FTSE Volume  GOLD Adj Close  OIL Adj Close  \n",
      "Date                                                                     \n",
      "2000-01-04     6665.899902  6.334490e+08           283.7          25.55  \n",
      "2000-01-05     6535.899902  6.702340e+08           282.1          24.91  \n",
      "2000-01-06     6447.200195  7.855320e+08           282.4          24.78  \n",
      "2000-01-07     6504.799805  8.883060e+08           282.9          24.22  \n",
      "2000-01-10     6607.700195  7.354550e+08           282.7          24.67  \n",
      "...                    ...           ...             ...            ...  \n",
      "2020-05-15     5799.799805  9.274333e+08          1750.9          29.71  \n",
      "2020-05-18     6048.600098  9.303252e+08          1734.1          32.83  \n",
      "2020-05-19     6002.200195  1.001642e+09          1749.5          32.36  \n",
      "2020-05-20     6067.200195  9.253836e+08          1752.1          33.52  \n",
      "2020-05-21     6015.299805  1.135942e+09          1723.4          33.91  \n",
      "\n",
      "[4926 rows x 8 columns]\n"
     ]
    }
   ],
   "source": [
    "data = combineData()\n",
    "print(data)"
   ]
  },
  {
   "cell_type": "code",
   "execution_count": 19,
   "metadata": {
    "scrolled": true
   },
   "outputs": [],
   "source": [
    "FUTURE_TO_PREDICT = 1\n",
    "\n",
    "data['Future'] = data['SP500 Adj Close'].shift(-FUTURE_TO_PREDICT)\n",
    "\n",
    "data.dropna(inplace=True)"
   ]
  },
  {
   "cell_type": "code",
   "execution_count": 20,
   "metadata": {},
   "outputs": [],
   "source": [
    "def buy_or_sell (current, future):\n",
    "    if (future > current):\n",
    "        return 1\n",
    "    else:\n",
    "        return 0\n",
    "    \n",
    "data['target'] = list(map(buy_or_sell, data['SP500 Adj Close'], data['Future']))"
   ]
  },
  {
   "cell_type": "code",
   "execution_count": 26,
   "metadata": {},
   "outputs": [
    {
     "name": "stdout",
     "output_type": "stream",
     "text": [
      "size of training data: 4186\n",
      "size of testing data: 739\n"
     ]
    }
   ],
   "source": [
    "NUMBER_OF_DATA_POINTS = len(data)\n",
    "SIZE_TRAINING = int(NUMBER_OF_DATA_POINTS * 0.85)\n",
    "SIZE_TESTING  = NUMBER_OF_DATA_POINTS - SIZE_TRAINING\n",
    "print(\"size of training data: {}\".format(SIZE_TRAINING))\n",
    "print(\"size of testing data: {}\".format(SIZE_TESTING))\n",
    "\n",
    "data_training = data[:SIZE_TRAINING]\n",
    "data_testing  = data[SIZE_TRAINING:]"
   ]
  },
  {
   "cell_type": "code",
   "execution_count": 29,
   "metadata": {
    "collapsed": true
   },
   "outputs": [
    {
     "name": "stdout",
     "output_type": "stream",
     "text": [
      "            SP500 Adj Close  SP500 Volume  DAX Adj Close   DAX Volume  \\\n",
      "Date                                                                    \n",
      "2000-01-04      1399.420044  1.009000e+09    6586.950195   46678400.0   \n",
      "2000-01-05      1402.109985  1.085500e+09    6502.069824   52682800.0   \n",
      "2000-01-06      1403.449951  1.092300e+09    6474.919922   41180600.0   \n",
      "2000-01-07      1441.469971  1.225200e+09    6780.959961   56058900.0   \n",
      "2000-01-10      1457.599976  1.064800e+09    6925.520020   42006200.0   \n",
      "...                     ...           ...            ...          ...   \n",
      "2017-03-15      2385.260010  3.906840e+09   12009.870117  101358200.0   \n",
      "2017-03-16      2381.379883  3.365660e+09   12083.179688  119337500.0   \n",
      "2017-03-17      2378.250000  5.178040e+09   12095.240234  187435700.0   \n",
      "2017-03-20      2373.469971  3.054930e+09   12052.900391  107350200.0   \n",
      "2017-03-21      2344.020020  4.265590e+09   11962.129883  130893800.0   \n",
      "\n",
      "            FTSE Adj Close   FTSE Volume  GOLD Adj Close  OIL Adj Close  \\\n",
      "Date                                                                      \n",
      "2000-01-04     6665.899902  6.334490e+08           283.7          25.55   \n",
      "2000-01-05     6535.899902  6.702340e+08           282.1          24.91   \n",
      "2000-01-06     6447.200195  7.855320e+08           282.4          24.78   \n",
      "2000-01-07     6504.799805  8.883060e+08           282.9          24.22   \n",
      "2000-01-10     6607.700195  7.354550e+08           282.7          24.67   \n",
      "...                    ...           ...             ...            ...   \n",
      "2017-03-15     7368.600098  8.330845e+08          1221.2          48.96   \n",
      "2017-03-16     7416.000000  1.082219e+09          1226.1          48.77   \n",
      "2017-03-17     7425.000000  1.516669e+09          1230.5          48.72   \n",
      "2017-03-20     7429.799805  6.110421e+08          1231.3          48.17   \n",
      "2017-03-21     7378.299805  8.469636e+08          1245.2          47.50   \n",
      "\n",
      "                 Future  target  \n",
      "Date                             \n",
      "2000-01-04  1402.109985       1  \n",
      "2000-01-05  1403.449951       1  \n",
      "2000-01-06  1441.469971       1  \n",
      "2000-01-07  1457.599976       1  \n",
      "2000-01-10  1438.560059       0  \n",
      "...                 ...     ...  \n",
      "2017-03-15  2381.379883       0  \n",
      "2017-03-16  2378.250000       0  \n",
      "2017-03-17  2373.469971       0  \n",
      "2017-03-20  2344.020020       0  \n",
      "2017-03-21  2348.449951       1  \n",
      "\n",
      "[4186 rows x 10 columns]\n"
     ]
    }
   ],
   "source": [
    "print(data_training)"
   ]
  },
  {
   "cell_type": "code",
   "execution_count": null,
   "metadata": {},
   "outputs": [],
   "source": [
    "def process_data(data):\n",
    "    data.drop(\"Future\", axis = 1, inplace = True)"
   ]
  },
  {
   "cell_type": "code",
   "execution_count": 35,
   "metadata": {
    "collapsed": true
   },
   "outputs": [
    {
     "name": "stdout",
     "output_type": "stream",
     "text": [
      "            SP500 Adj Close  SP500 Volume  DAX Adj Close   DAX Volume  \\\n",
      "Date                                                                    \n",
      "2000-01-04      1399.420044  1.009000e+09    6586.950195   46678400.0   \n",
      "2000-01-05      1402.109985  1.085500e+09    6502.069824   52682800.0   \n",
      "2000-01-06      1403.449951  1.092300e+09    6474.919922   41180600.0   \n",
      "2000-01-07      1441.469971  1.225200e+09    6780.959961   56058900.0   \n",
      "2000-01-10      1457.599976  1.064800e+09    6925.520020   42006200.0   \n",
      "...                     ...           ...            ...          ...   \n",
      "2020-05-14      2852.500000  5.641920e+09   10337.019531  133623600.0   \n",
      "2020-05-15      2863.699951  5.477040e+09   10465.169922  116082600.0   \n",
      "2020-05-18      2953.909912  6.364290e+09   11058.870117  118984900.0   \n",
      "2020-05-19      2922.939941  4.969330e+09   11075.290039  125543400.0   \n",
      "2020-05-20      2971.610107  4.992970e+09   11223.709961   98827200.0   \n",
      "\n",
      "            FTSE Adj Close   FTSE Volume  GOLD Adj Close  OIL Adj Close  \\\n",
      "Date                                                                      \n",
      "2000-01-04     6665.899902  6.334490e+08           283.7          25.55   \n",
      "2000-01-05     6535.899902  6.702340e+08           282.1          24.91   \n",
      "2000-01-06     6447.200195  7.855320e+08           282.4          24.78   \n",
      "2000-01-07     6504.799805  8.883060e+08           282.9          24.22   \n",
      "2000-01-10     6607.700195  7.354550e+08           282.7          24.67   \n",
      "...                    ...           ...             ...            ...   \n",
      "2020-05-14     5741.500000  1.152460e+09          1736.5          27.68   \n",
      "2020-05-15     5799.799805  9.274333e+08          1750.9          29.71   \n",
      "2020-05-18     6048.600098  9.303252e+08          1734.1          32.83   \n",
      "2020-05-19     6002.200195  1.001642e+09          1749.5          32.36   \n",
      "2020-05-20     6067.200195  9.253836e+08          1752.1          33.52   \n",
      "\n",
      "                 Future  target  \n",
      "Date                             \n",
      "2000-01-04  1402.109985       1  \n",
      "2000-01-05  1403.449951       1  \n",
      "2000-01-06  1441.469971       1  \n",
      "2000-01-07  1457.599976       1  \n",
      "2000-01-10  1438.560059       0  \n",
      "...                 ...     ...  \n",
      "2020-05-14  2863.699951       1  \n",
      "2020-05-15  2953.909912       1  \n",
      "2020-05-18  2922.939941       0  \n",
      "2020-05-19  2971.610107       1  \n",
      "2020-05-20  2948.510010       0  \n",
      "\n",
      "[4925 rows x 10 columns]\n"
     ]
    }
   ],
   "source": []
  },
  {
   "cell_type": "code",
   "execution_count": null,
   "metadata": {},
   "outputs": [],
   "source": []
  },
  {
   "cell_type": "code",
   "execution_count": null,
   "metadata": {},
   "outputs": [],
   "source": []
  },
  {
   "cell_type": "code",
   "execution_count": null,
   "metadata": {},
   "outputs": [],
   "source": []
  },
  {
   "cell_type": "code",
   "execution_count": null,
   "metadata": {},
   "outputs": [],
   "source": []
  },
  {
   "cell_type": "code",
   "execution_count": null,
   "metadata": {},
   "outputs": [],
   "source": []
  },
  {
   "cell_type": "code",
   "execution_count": null,
   "metadata": {},
   "outputs": [],
   "source": []
  },
  {
   "cell_type": "code",
   "execution_count": null,
   "metadata": {},
   "outputs": [],
   "source": []
  },
  {
   "cell_type": "code",
   "execution_count": null,
   "metadata": {},
   "outputs": [],
   "source": []
  }
 ],
 "metadata": {
  "kernelspec": {
   "display_name": "Python 3",
   "language": "python",
   "name": "python3"
  },
  "language_info": {
   "codemirror_mode": {
    "name": "ipython",
    "version": 3
   },
   "file_extension": ".py",
   "mimetype": "text/x-python",
   "name": "python",
   "nbconvert_exporter": "python",
   "pygments_lexer": "ipython3",
   "version": "3.6.9"
  }
 },
 "nbformat": 4,
 "nbformat_minor": 4
}
