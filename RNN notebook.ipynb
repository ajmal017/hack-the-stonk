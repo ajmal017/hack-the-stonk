{
 "cells": [
  {
   "cell_type": "code",
   "execution_count": 1,
   "metadata": {},
   "outputs": [
    {
     "name": "stderr",
     "output_type": "stream",
     "text": [
      "c:\\users\\juand\\appdata\\local\\programs\\python\\python36\\lib\\site-packages\\pandas_datareader\\compat\\__init__.py:7: FutureWarning: pandas.util.testing is deprecated. Use the functions in the public API at pandas.testing instead.\n",
      "  from pandas.util.testing import assert_frame_equal\n"
     ]
    }
   ],
   "source": [
    "from pandas_datareader import data as pdr \n",
    "from datetime import date\n",
    "import yfinance as yf \n",
    "yf.pdr_override()\n",
    "import pandas as pd\n",
    "import matplotlib.pyplot as plt \n",
    "import math\n",
    "import quandl\n",
    "import numpy as np\n",
    "from sklearn import preprocessing\n",
    "%matplotlib qt"
   ]
  },
  {
   "cell_type": "code",
   "execution_count": 14,
   "metadata": {},
   "outputs": [],
   "source": [
    "ticker_sp = '^GSPC'\n",
    "ticker_gold = 'GC=F'\n",
    "ticker_oil = 'CL=F'\n",
    "ticker_dax = '^GDAXI'\n",
    "ticker_nikkei = '^N225'\n",
    "ticker_ftse = '^FTSE'\n",
    "ticker_shanghai = '000001.SS'\n",
    "\n",
    "auth_tok = \"Nv1rJgRR7u88iz_dg7Y6\"\n",
    "\n",
    "end_date = \"2020-07-1\"\n",
    "start_date = \"1970-01-02\""
   ]
  },
  {
   "cell_type": "code",
   "execution_count": 15,
   "metadata": {},
   "outputs": [],
   "source": [
    "def getGOLDData ():\n",
    "    # Contains only price from 1975 onwards\n",
    "    data = quandl.get(\"CHRIS/CME_GC1\", trim_start = start_date, trim_end = end_date, authtoken=auth_tok)\n",
    "    data = data[['Last']]\n",
    "    data.columns = [\"GOLD Adj Close\"]\n",
    "    return data\n",
    "\n",
    "def getSPData():\n",
    "    # Contains price from 1970 onwards\n",
    "    data = pdr.get_data_yahoo(ticker_sp, start=start_date, end=end_date)\n",
    "    data = data[data.columns[4:5]] \n",
    "    data.columns = [\"SP500 Adj Close\"]\n",
    "    return data\n",
    "\n",
    "def getDAXData():\n",
    "    # Contains price from 1988 onwards\n",
    "    data = pdr.get_data_yahoo(ticker_dax, start=start_date, end=end_date)\n",
    "    data = data[data.columns[4:5]]\n",
    "    data.columns = [\"DAX Adj Close\"]\n",
    "    return data\n",
    "\n",
    "\n",
    "def getOILData():\n",
    "    # Contains only price FROM 1984 onwards\n",
    "    data = quandl.get(\"CHRIS/CME_CL1\", trim_start = start_date, trim_end = end_date, authtoken=auth_tok)\n",
    "    data = data[[\"Last\"]]\n",
    "    data.columns=[\"OIL Adj Close\"]\n",
    "    return data\n",
    "\n",
    "\n",
    "def getNIKKEIData():\n",
    "    # Contains only price from 1970 onwards\n",
    "    data = pdr.get_data_yahoo(ticker_nikkei, start=start_date, end=end_date)\n",
    "    data = data[data.columns[4:5]] \n",
    "    data.columns = [\"NIKKEI Adj Close\"]\n",
    "    return data\n",
    "\n",
    "\n",
    "def getFTSEData():\n",
    "    # Contains price from 1984 onwards\n",
    "    data = pdr.get_data_yahoo(ticker_ftse, start=start_date, end=end_date)\n",
    "    data = data[data.columns[4:5]] \n",
    "    data.columns = [\"FTSE Adj Close\"]\n",
    "    return data\n",
    "\n",
    "def getSHANGHAIData():\n",
    "    # Contains only price from 1997\n",
    "    data = pdr.get_data_yahoo(ticker_shanghai, start=start_date, end=end_date)\n",
    "    data = data[data.columns[4:5]] \n",
    "    data.columns = [\"SHANGHAI Adj Close\"]\n",
    "    return data"
   ]
  },
  {
   "cell_type": "code",
   "execution_count": 25,
   "metadata": {},
   "outputs": [
    {
     "name": "stdout",
     "output_type": "stream",
     "text": [
      "[*********************100%***********************]  1 of 1 completed\n"
     ]
    }
   ],
   "source": [
    "plt.plot(getSHANGHAIData())\n",
    "plt.show()"
   ]
  },
  {
   "cell_type": "code",
   "execution_count": 26,
   "metadata": {},
   "outputs": [],
   "source": [
    "def combineData():\n",
    "    allData = [getSPData(), getDAXData(), getFTSEData(), getGOLDData(), getOILData()]\n",
    "    mergedData = pd.concat(allData, axis = 1)\n",
    "    cleanData = mergedData.dropna()\n",
    "    return cleanData"
   ]
  },
  {
   "cell_type": "code",
   "execution_count": 82,
   "metadata": {},
   "outputs": [
    {
     "name": "stdout",
     "output_type": "stream",
     "text": [
      "[*********************100%***********************]  1 of 1 completed\n",
      "[*********************100%***********************]  1 of 1 completed\n",
      "[*********************100%***********************]  1 of 1 completed\n",
      "            SP500 Adj Close  DAX Adj Close  FTSE Adj Close  GOLD Adj Close  \\\n",
      "Date                                                                         \n",
      "1987-12-30       247.860001    1005.190002     1759.800049           485.5   \n",
      "1988-01-04       255.940002     956.489990     1713.900024           480.5   \n",
      "1988-01-05       258.630005     996.099976     1789.599976           483.2   \n",
      "1988-01-06       258.890015    1006.010010     1787.099976           485.3   \n",
      "1988-01-07       261.070007    1014.469971     1787.199951           483.1   \n",
      "...                     ...            ...             ...             ...   \n",
      "2020-06-04      3112.350098   12430.559570     6341.399902          1712.3   \n",
      "2020-06-05      3193.929932   12847.679688     6484.299805          1679.5   \n",
      "2020-06-08      3232.389893   12819.589844     6472.600098          1698.9   \n",
      "2020-06-09      3207.179932   12617.990234     6335.700195          1712.0   \n",
      "2020-06-10      3190.139893   12530.160156     6329.100098          1736.2   \n",
      "\n",
      "            OIL Adj Close  \n",
      "Date                       \n",
      "1987-12-30          16.89  \n",
      "1988-01-04          17.69  \n",
      "1988-01-05          17.85  \n",
      "1988-01-06          17.82  \n",
      "1988-01-07          17.39  \n",
      "...                   ...  \n",
      "2020-06-04          37.33  \n",
      "2020-06-05          38.97  \n",
      "2020-06-08          38.19  \n",
      "2020-06-09          38.39  \n",
      "2020-06-10          39.09  \n",
      "\n",
      "[7856 rows x 5 columns]\n"
     ]
    }
   ],
   "source": [
    "data = combineData()\n",
    "print(data)"
   ]
  },
  {
   "cell_type": "code",
   "execution_count": 83,
   "metadata": {},
   "outputs": [
    {
     "name": "stdout",
     "output_type": "stream",
     "text": [
      "            SP500 Adj Close  DAX Adj Close  FTSE Adj Close  GOLD Adj Close  \\\n",
      "Date                                                                         \n",
      "1987-12-30       247.860001    1005.190002     1759.800049           485.5   \n",
      "1988-01-04       255.940002     956.489990     1713.900024           480.5   \n",
      "1988-01-05       258.630005     996.099976     1789.599976           483.2   \n",
      "1988-01-06       258.890015    1006.010010     1787.099976           485.3   \n",
      "1988-01-07       261.070007    1014.469971     1787.199951           483.1   \n",
      "...                     ...            ...             ...             ...   \n",
      "2020-06-03      3122.870117   12487.360352     6382.399902          1694.0   \n",
      "2020-06-04      3112.350098   12430.559570     6341.399902          1712.3   \n",
      "2020-06-05      3193.929932   12847.679688     6484.299805          1679.5   \n",
      "2020-06-08      3232.389893   12819.589844     6472.600098          1698.9   \n",
      "2020-06-09      3207.179932   12617.990234     6335.700195          1712.0   \n",
      "\n",
      "            OIL Adj Close       Future  \n",
      "Date                                    \n",
      "1987-12-30          16.89   255.940002  \n",
      "1988-01-04          17.69   258.630005  \n",
      "1988-01-05          17.85   258.890015  \n",
      "1988-01-06          17.82   261.070007  \n",
      "1988-01-07          17.39   243.399994  \n",
      "...                   ...          ...  \n",
      "2020-06-03          36.75  3112.350098  \n",
      "2020-06-04          37.33  3193.929932  \n",
      "2020-06-05          38.97  3232.389893  \n",
      "2020-06-08          38.19  3207.179932  \n",
      "2020-06-09          38.39  3190.139893  \n",
      "\n",
      "[7855 rows x 6 columns]\n"
     ]
    }
   ],
   "source": [
    "FUTURE_TO_PREDICT = 1\n",
    "\n",
    "data['Future'] = data['SP500 Adj Close'].shift(-FUTURE_TO_PREDICT)\n",
    "\n",
    "data.dropna(inplace=True)\n",
    "\n",
    "print(data)"
   ]
  },
  {
   "cell_type": "code",
   "execution_count": 84,
   "metadata": {},
   "outputs": [],
   "source": [
    "def buy_or_sell (current, future):\n",
    "    if (future > current):\n",
    "        return 1\n",
    "    else:\n",
    "        return 0\n",
    "    \n",
    "data['Target'] = list(map(buy_or_sell, data['SP500 Adj Close'], data['Future']))"
   ]
  },
  {
   "cell_type": "code",
   "execution_count": 85,
   "metadata": {},
   "outputs": [
    {
     "name": "stdout",
     "output_type": "stream",
     "text": [
      "size of training data: 6676\n",
      "size of testing data: 1179\n"
     ]
    }
   ],
   "source": [
    "NUMBER_OF_DATA_POINTS = len(data)\n",
    "SIZE_TRAINING = int(NUMBER_OF_DATA_POINTS * 0.85)\n",
    "SIZE_TESTING  = NUMBER_OF_DATA_POINTS - SIZE_TRAINING\n",
    "print(\"size of training data: {}\".format(SIZE_TRAINING))\n",
    "print(\"size of testing data: {}\".format(SIZE_TESTING))\n",
    "\n",
    "data_training = data[:SIZE_TRAINING]\n",
    "data_testing  = data[SIZE_TRAINING:]"
   ]
  },
  {
   "cell_type": "code",
   "execution_count": 86,
   "metadata": {},
   "outputs": [
    {
     "name": "stdout",
     "output_type": "stream",
     "text": [
      "            SP500 Adj Close  DAX Adj Close  FTSE Adj Close  GOLD Adj Close  \\\n",
      "Date                                                                         \n",
      "1987-12-30       247.860001    1005.190002     1759.800049           485.5   \n",
      "1988-01-04       255.940002     956.489990     1713.900024           480.5   \n",
      "1988-01-05       258.630005     996.099976     1789.599976           483.2   \n",
      "1988-01-06       258.890015    1006.010010     1787.099976           485.3   \n",
      "1988-01-07       261.070007    1014.469971     1787.199951           483.1   \n",
      "...                     ...            ...             ...             ...   \n",
      "2015-06-18      2121.239990   11100.299805     6707.899902          1201.5   \n",
      "2015-06-19      2109.989990   11040.099609     6710.500000          1201.5   \n",
      "2015-06-22      2122.850098   11460.500000     6825.700195          1183.7   \n",
      "2015-06-23      2124.199951   11542.540039     6834.899902          1176.2   \n",
      "2015-06-24      2108.580078   11471.259766     6844.799805          1172.6   \n",
      "\n",
      "            OIL Adj Close       Future  Target  \n",
      "Date                                            \n",
      "1987-12-30          16.89   255.940002       1  \n",
      "1988-01-04          17.69   258.630005       1  \n",
      "1988-01-05          17.85   258.890015       1  \n",
      "1988-01-06          17.82   261.070007       1  \n",
      "1988-01-07          17.39   243.399994       0  \n",
      "...                   ...          ...     ...  \n",
      "2015-06-18          60.45  2109.989990       0  \n",
      "2015-06-19          59.61  2122.850098       1  \n",
      "2015-06-22          59.20  2124.199951       1  \n",
      "2015-06-23          61.01  2108.580078       0  \n",
      "2015-06-24          60.27  2102.310059       0  \n",
      "\n",
      "[6676 rows x 7 columns]\n"
     ]
    }
   ],
   "source": [
    "print(data_training)"
   ]
  },
  {
   "cell_type": "code",
   "execution_count": 87,
   "metadata": {},
   "outputs": [],
   "source": [
    "def process_data(data):\n",
    "    data.drop(\"Future\", axis = 1, inplace = True)  # Drop the future column so that the NN doesn't have access to the future\n",
    "    \n",
    "    for column in data.columns:  # Normalize the columns\n",
    "        if column != \"Target\":   # We only want to normalize the other columns\n",
    "            data[column] = data[column].pct_change()   # Normalization by percent change\n",
    "            data.dropna(inplace = True)\n",
    "            #data[column] = preprocessing.scale(data[column].values)    # Scale values between 0 and 1\n",
    "    data.dropna(inplace = True)\n",
    "    \n",
    "    sequential_data = []\n",
    "    sequence_length = 15\n",
    "    \n",
    "    for day in range (len(data)-sequence_length+1):\n",
    "        \n",
    "        sequence = []\n",
    "        \n",
    "        for future_day in range (sequence_length):\n",
    "            sequence.append(data.iloc[day + future_day].values[:-1])\n",
    "        \n",
    "        buy_or_sell = data.iloc[day + sequence_length - 1].values[-1]\n",
    "        \n",
    "        sequential_data.append(sequence, buy_or_sell)\n",
    "        \n",
    "    random.shuffle(sequential_data)\n",
    "    \n",
    "    buy_sequences  = []\n",
    "    sell_sequences = []\n",
    "    \n",
    "    for sequence, target in sequential_data:\n",
    "        if target == 1:\n",
    "            buy_sequences.append(sequence)\n",
    "        elif target == 0:\n",
    "            sell_sequences.append(sequence)\n",
    "        \n",
    "        \n",
    "    \n",
    "    return data"
   ]
  },
  {
   "cell_type": "code",
   "execution_count": 88,
   "metadata": {},
   "outputs": [
    {
     "name": "stderr",
     "output_type": "stream",
     "text": [
      "c:\\users\\juand\\appdata\\local\\programs\\python\\python36\\lib\\site-packages\\pandas\\core\\frame.py:3997: SettingWithCopyWarning: \n",
      "A value is trying to be set on a copy of a slice from a DataFrame\n",
      "\n",
      "See the caveats in the documentation: https://pandas.pydata.org/pandas-docs/stable/user_guide/indexing.html#returning-a-view-versus-a-copy\n",
      "  errors=errors,\n",
      "c:\\users\\juand\\appdata\\local\\programs\\python\\python36\\lib\\site-packages\\ipykernel_launcher.py:6: SettingWithCopyWarning: \n",
      "A value is trying to be set on a copy of a slice from a DataFrame.\n",
      "Try using .loc[row_indexer,col_indexer] = value instead\n",
      "\n",
      "See the caveats in the documentation: https://pandas.pydata.org/pandas-docs/stable/user_guide/indexing.html#returning-a-view-versus-a-copy\n",
      "  \n",
      "c:\\users\\juand\\appdata\\local\\programs\\python\\python36\\lib\\site-packages\\ipykernel_launcher.py:7: SettingWithCopyWarning: \n",
      "A value is trying to be set on a copy of a slice from a DataFrame\n",
      "\n",
      "See the caveats in the documentation: https://pandas.pydata.org/pandas-docs/stable/user_guide/indexing.html#returning-a-view-versus-a-copy\n",
      "  import sys\n",
      "c:\\users\\juand\\appdata\\local\\programs\\python\\python36\\lib\\site-packages\\ipykernel_launcher.py:9: SettingWithCopyWarning: \n",
      "A value is trying to be set on a copy of a slice from a DataFrame\n",
      "\n",
      "See the caveats in the documentation: https://pandas.pydata.org/pandas-docs/stable/user_guide/indexing.html#returning-a-view-versus-a-copy\n",
      "  if __name__ == '__main__':\n"
     ]
    }
   ],
   "source": [
    "data_training = process_data(data_training)\n",
    "data_testing  = process_data(data_testing)"
   ]
  },
  {
   "cell_type": "code",
   "execution_count": 104,
   "metadata": {},
   "outputs": [
    {
     "name": "stdout",
     "output_type": "stream",
     "text": [
      "[-0.06768305  0.01204567 -0.00772153  0.00496792 -0.00460035  1.        ]\n"
     ]
    }
   ],
   "source": [
    "print(data_training.iloc[0].values)"
   ]
  },
  {
   "cell_type": "code",
   "execution_count": 101,
   "metadata": {},
   "outputs": [
    {
     "name": "stdout",
     "output_type": "stream",
     "text": [
      "0.06488917442981057\n"
     ]
    }
   ],
   "source": [
    "print(max(data_testing['GOLD Adj Close'].values))"
   ]
  },
  {
   "cell_type": "code",
   "execution_count": null,
   "metadata": {},
   "outputs": [],
   "source": []
  },
  {
   "cell_type": "code",
   "execution_count": null,
   "metadata": {},
   "outputs": [],
   "source": []
  },
  {
   "cell_type": "code",
   "execution_count": null,
   "metadata": {},
   "outputs": [],
   "source": []
  },
  {
   "cell_type": "code",
   "execution_count": null,
   "metadata": {},
   "outputs": [],
   "source": []
  },
  {
   "cell_type": "code",
   "execution_count": null,
   "metadata": {},
   "outputs": [],
   "source": []
  },
  {
   "cell_type": "code",
   "execution_count": null,
   "metadata": {},
   "outputs": [],
   "source": []
  }
 ],
 "metadata": {
  "kernelspec": {
   "display_name": "Python 3",
   "language": "python",
   "name": "python3"
  }
 },
 "nbformat": 4,
 "nbformat_minor": 4
}
