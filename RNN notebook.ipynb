{
 "cells": [
  {
   "cell_type": "code",
   "execution_count": 1,
   "metadata": {},
   "outputs": [
    {
     "name": "stderr",
     "output_type": "stream",
     "text": [
      "/home/juan/.local/lib/python3.6/site-packages/pandas_datareader/compat/__init__.py:7: FutureWarning: pandas.util.testing is deprecated. Use the functions in the public API at pandas.testing instead.\n",
      "  from pandas.util.testing import assert_frame_equal\n"
     ]
    }
   ],
   "source": [
    "from pandas_datareader import data as pdr \n",
    "from datetime import date\n",
    "import yfinance as yf \n",
    "yf.pdr_override()\n",
    "import pandas as pd\n",
    "import matplotlib.pyplot as plt \n",
    "import math\n",
    "import quandl\n",
    "import numpy as np"
   ]
  },
  {
   "cell_type": "code",
   "execution_count": 47,
   "metadata": {},
   "outputs": [],
   "source": [
    "ticker_sp = '^GSPC'\n",
    "ticker_gold = 'GC=F'\n",
    "ticker_oil = 'CL=F'\n",
    "ticker_dax = '^GDAXI'\n",
    "ticker_nikkei = '^N225'\n",
    "ticker_ftse = '^FTSE'\n",
    "ticker_shanghai = '000001.SS'\n",
    "\n",
    "auth_tok = \"Nv1rJgRR7u88iz_dg7Y6\"\n",
    "\n",
    "end_date = \"2020-05-1\"\n",
    "start_date = \"1950-01-01\""
   ]
  },
  {
   "cell_type": "code",
   "execution_count": 48,
   "metadata": {},
   "outputs": [],
   "source": [
    "def getGOLDData ():\n",
    "    # Contains price and volume\n",
    "    data = quandl.get(\"CHRIS/CME_GC1\", trim_start = start_date, trim_end = end_date, authtoken=auth_tok)\n",
    "    data = data[['Last', 'Volume']]\n",
    "    data.columns = [\"GOLD Adj Close\", \"GOLD Volume\"]\n",
    "    return data.dropna()\n",
    "\n",
    "def getSPData():\n",
    "    # Contains price and volume\n",
    "    data = pdr.get_data_yahoo(ticker_sp, start=start_date, end=end_date)\n",
    "    data = data[data.columns[4:6]] \n",
    "    data.columns = [\"SP500 Adj Close\",  \"SP500 Volume\"]\n",
    "    return data\n",
    "\n",
    "def getDAXData():\n",
    "    # Contains price and volume\n",
    "    data = pdr.get_data_yahoo(ticker_dax, start=start_date, end=end_date)\n",
    "    data = data[data.columns[4:6]]\n",
    "    data.columns = [\"DAX Adj Close\",  \"DAX Volume\"]\n",
    "    return data\n",
    "\n",
    "\n",
    "def getOILData():\n",
    "    # Contains price and volume\n",
    "    data = quandl.get(\"CHRIS/CME_CL1\", trim_start = start_date, trim_end = end_date, authtoken=auth_tok)\n",
    "    data = data[[\"Last\", \"Volume\"]]\n",
    "    data.columns=[\"OIL Adj Close\", \"OIL Volume\"]\n",
    "    return data.dropna()\n",
    "\n",
    "\n",
    "def getNIKKEIData():\n",
    "    # Contains only price\n",
    "    data = pdr.get_data_yahoo(ticker_nikkei, start=start_date, end=end_date)\n",
    "    data = data[data.columns[4:5]] \n",
    "    data.columns = [\"NIKKEI Adj Close\"]\n",
    "    return data\n",
    "\n",
    "\n",
    "def getFTSEData():\n",
    "    # Contains price and volume\n",
    "    data = pdr.get_data_yahoo(ticker_ftse, start=start_date, end=end_date)\n",
    "    data = data[data.columns[4:6]] \n",
    "    data.columns = [\"FTSE Adj Close\",  \"FTSE Volume\"]\n",
    "    return data\n",
    "\n",
    "def getSHANGHAIData():\n",
    "    # Contains only price\n",
    "    data = pdr.get_data_yahoo(ticker_shanghai, start=start_date, end=end_date)\n",
    "    data = data[data.columns[4:5]] \n",
    "    data.columns = [\"SHANGHAI Adj Close\"]\n",
    "    return data"
   ]
  },
  {
   "cell_type": "code",
   "execution_count": null,
   "metadata": {},
   "outputs": [],
   "source": []
  },
  {
   "cell_type": "code",
   "execution_count": 49,
   "metadata": {},
   "outputs": [],
   "source": [
    "def checkData (data):\n",
    "    counter = 0\n",
    "    for index, row in data.iterrows():\n",
    "        for item in row:\n",
    "            if (math.isnan(item)):\n",
    "                counter += 1\n",
    "                break\n",
    "    return counter\n",
    "\n",
    "def normalizeData(data):\n",
    "    for column in data:\n",
    "        maxValue = max(data[column])\n",
    "        data[column] = data[column] / maxValue"
   ]
  },
  {
   "cell_type": "code",
   "execution_count": 50,
   "metadata": {},
   "outputs": [],
   "source": [
    "def combineData():\n",
    "    #allData = [getSPData(), getGOLDData(), getDAXData(), getOILData(), getNIKKEIData(), getSHANGHAIData(), getFTSEData()]\n",
    "    allData = [getSPData()]\n",
    "    mergedData = pd.concat(allData, axis = 1)\n",
    "    print(\"REMOVED: {} DATA POINTS\".format(checkData(mergedData)))\n",
    "    cleanData = mergedData.dropna()\n",
    "    normalizeData(cleanData)\n",
    "    return cleanData"
   ]
  },
  {
   "cell_type": "code",
   "execution_count": 51,
   "metadata": {
    "scrolled": true
   },
   "outputs": [
    {
     "name": "stdout",
     "output_type": "stream",
     "text": [
      "[*********************100%***********************]  1 of 1 completed\n",
      "REMOVED: 0 DATA POINTS\n",
      "            SP500 Adj Close  SP500 Volume\n",
      "Date                                     \n",
      "1950-01-03         0.004920      0.000110\n",
      "1950-01-04         0.004976      0.000165\n",
      "1950-01-05         0.005000      0.000223\n",
      "1950-01-06         0.005015      0.000175\n",
      "1950-01-09         0.005044      0.000220\n",
      "...                     ...           ...\n",
      "2020-04-24         0.837748      0.469132\n",
      "2020-04-27         0.850075      0.453400\n",
      "2020-04-28         0.845618      0.495179\n",
      "2020-04-29         0.868098      0.577864\n",
      "2020-04-30         0.860101      0.569395\n",
      "\n",
      "[17696 rows x 2 columns]\n"
     ]
    }
   ],
   "source": [
    "data = combineData()\n",
    "\n",
    "print(data)\n",
    "\n",
    "day_counter = 0\n",
    "\n",
    "# Size of prediction\n",
    "prediction_size = 3\n",
    "\n",
    "# Number of days in the past\n",
    "historical_size = 15\n",
    "\n",
    "# Size of available data.\n",
    "data_size = len(data) - prediction_size - historical_size\n",
    "\n",
    "# Size of data alocated to training\n",
    "training_size = int(0.85*data_size)\n",
    "\n",
    "# Size of data alocated to testing\n",
    "testing_size = data_size - training_size\n",
    "\n",
    "# Number of data elements in a single day\n",
    "daily_data_size = 2 \n",
    "\n",
    "x_train = np.zeros((training_size, historical_size, daily_data_size))\n",
    "y_train = np.zeros((training_size))\n",
    "x_test  = np.zeros((testing_size, historical_size, daily_data_size))\n",
    "y_test  = np.zeros((testing_size))\n",
    "\n",
    "sanity_train = np.zeros((training_size, 3))\n",
    "sanity_test = np.zeros((testing_size, 3))"
   ]
  },
  {
   "cell_type": "code",
   "execution_count": 52,
   "metadata": {},
   "outputs": [
    {
     "name": "stdout",
     "output_type": "stream",
     "text": [
      "100% completed\n"
     ]
    }
   ],
   "source": [
    "day_counter = 0\n",
    "\n",
    "for index, row in data.iterrows():\n",
    "    \n",
    "    if (day_counter == data_size):\n",
    "        print(\"100% completed\")\n",
    "        break\n",
    "\n",
    "    if (day_counter < len(x_train)):\n",
    "        \n",
    "        \n",
    "        for i in range (historical_size):\n",
    "            for j in range (daily_data_size):\n",
    "                x_train[day_counter][i][j] = data.iloc[day_counter + i][j]\n",
    "                \n",
    "        base_value = data.iloc[day_counter + historical_size - 1]['SP500 Adj Close']\n",
    "        future_values = []\n",
    "        for i in range (prediction_size):\n",
    "            future_values += [data.iloc[day_counter + historical_size + i]['SP500 Adj Close']] \n",
    "        average_future = sum(future_values) / len(future_values)\n",
    "        if ((average_future - base_value) > 0):\n",
    "            delta = 1\n",
    "        else:\n",
    "            delta = 0\n",
    "            \n",
    "        y_train[day_counter] = delta\n",
    "        \n",
    "        sanity_train[day_counter] = np.array(future_values)\n",
    "        \n",
    "        \n",
    "    else:\n",
    "        \n",
    "        for i in range (historical_size):\n",
    "            for j in range (daily_data_size):\n",
    "                x_test[day_counter - len(x_train)][i][j] = data.iloc[day_counter + i][j]\n",
    "                \n",
    "        base_value = data.iloc[day_counter + historical_size - 1]['SP500 Adj Close']\n",
    "        future_values = []\n",
    "        for i in range (prediction_size):\n",
    "            future_values += [data.iloc[day_counter + historical_size + i]['SP500 Adj Close']] \n",
    "        average_future = sum(future_values) / len(future_values)\n",
    "        if ((average_future - base_value) > 0):\n",
    "            delta = 1\n",
    "        else:\n",
    "            delta = 0\n",
    "            \n",
    "        y_test[day_counter - len(y_train)] = delta\n",
    "        \n",
    "        sanity_test[day_counter - len(y_train)] = np.array(future_values)\n",
    "        \n",
    "    day_counter += 1\n",
    "    print(\"{}% completed\".format(int(100 * day_counter/data_size)), end = '\\r')"
   ]
  },
  {
   "cell_type": "code",
   "execution_count": 53,
   "metadata": {
    "scrolled": true
   },
   "outputs": [],
   "source": [
    "y_train = y_train.astype('uint8')\n",
    "y_test  = y_test.astype('uint8') "
   ]
  },
  {
   "cell_type": "code",
   "execution_count": null,
   "metadata": {},
   "outputs": [],
   "source": []
  },
  {
   "cell_type": "code",
   "execution_count": 54,
   "metadata": {},
   "outputs": [],
   "source": [
    "# Balance out training data\n",
    "ones = 0\n",
    "zeros = 0\n",
    "for i in y_train:\n",
    "    if (i == 1):\n",
    "        ones += 1\n",
    "    else:\n",
    "        zeros += 1\n",
    "balanced_x_train = np.zeros((2*min(ones,zeros), historical_size, daily_data_size))\n",
    "balanced_y_train = np.zeros((2*min(ones,zeros)))\n",
    "balanced_sanity_train = np.zeros((2*min(ones,zeros), 3))\n",
    "\n",
    "# Insert ones\n",
    "index = 0\n",
    "for i in range (len(x_train)):\n",
    "    if (y_train[i] == 1):\n",
    "        balanced_x_train[index] = x_train[i]\n",
    "        balanced_y_train[index] = y_train[i]\n",
    "        balanced_sanity_train[index] = sanity_train[i]\n",
    "        index += 1\n",
    "        \n",
    "    if (index == min(ones, zeros)):\n",
    "        break\n",
    "        \n",
    "# Insert zeros\n",
    "for i in range (len(x_train)):\n",
    "    if (y_train[i] == 0):\n",
    "        balanced_x_train[index] = x_train[i]\n",
    "        balanced_y_train[index] = y_train[i]\n",
    "        balanced_sanity_train[index] = sanity_train[i]\n",
    "        index += 1\n",
    "        \n",
    "    if (index == len(balanced_x_train)):\n",
    "        break"
   ]
  },
  {
   "cell_type": "code",
   "execution_count": 55,
   "metadata": {},
   "outputs": [],
   "source": [
    "# Balance out testing data\n",
    "ones = 0\n",
    "zeros = 0\n",
    "for i in y_test:\n",
    "    if (i == 1):\n",
    "        ones += 1\n",
    "    else:\n",
    "        zeros += 1\n",
    "balanced_x_test = np.zeros((2*min(ones,zeros), historical_size, daily_data_size))\n",
    "balanced_y_test = np.zeros((2*min(ones,zeros)))\n",
    "balanced_sanity_test = np.zeros((2*min(ones,zeros), 3))\n",
    "\n",
    "# Insert ones\n",
    "index = 0\n",
    "for i in range (len(x_test)):\n",
    "    if (y_test[i] == 1):\n",
    "        balanced_x_test[index] = x_test[i]\n",
    "        balanced_y_test[index] = y_test[i]\n",
    "        balanced_sanity_test[index] = sanity_test[i]\n",
    "        index += 1\n",
    "        \n",
    "    if (index == min(ones, zeros)):\n",
    "        break\n",
    "        \n",
    "# Insert zeros\n",
    "for i in range (len(x_test)):\n",
    "    if (y_test[i] == 0):\n",
    "        balanced_x_test[index] = x_test[i]\n",
    "        balanced_y_test[index] = y_test[i]\n",
    "        balanced_sanity_test[index] = sanity_test[i]\n",
    "        index += 1\n",
    "        \n",
    "    if (index == len(balanced_x_test)):\n",
    "        break"
   ]
  },
  {
   "cell_type": "code",
   "execution_count": 56,
   "metadata": {},
   "outputs": [
    {
     "name": "stdout",
     "output_type": "stream",
     "text": [
      "1114\n",
      "1114\n"
     ]
    }
   ],
   "source": [
    "ones = 0\n",
    "zeros = 0\n",
    "for i in balanced_y_test:\n",
    "    if (i == 1):\n",
    "        ones += 1\n",
    "    else:\n",
    "        zeros += 1\n",
    "        \n",
    "print(ones)\n",
    "print(zeros)"
   ]
  },
  {
   "cell_type": "code",
   "execution_count": 57,
   "metadata": {},
   "outputs": [
    {
     "name": "stderr",
     "output_type": "stream",
     "text": [
      "/home/juan/.local/lib/python3.6/site-packages/ipykernel_launcher.py:4: FutureWarning: Using a non-tuple sequence for multidimensional indexing is deprecated; use `arr[tuple(seq)]` instead of `arr[seq]`. In the future this will be interpreted as an array index, `arr[np.array(seq)]`, which will result either in an error or a different result.\n",
      "  after removing the cwd from sys.path.\n",
      "/home/juan/.local/lib/python3.6/site-packages/ipykernel_launcher.py:5: FutureWarning: Using a non-tuple sequence for multidimensional indexing is deprecated; use `arr[tuple(seq)]` instead of `arr[seq]`. In the future this will be interpreted as an array index, `arr[np.array(seq)]`, which will result either in an error or a different result.\n",
      "  \"\"\"\n",
      "/home/juan/.local/lib/python3.6/site-packages/ipykernel_launcher.py:6: FutureWarning: Using a non-tuple sequence for multidimensional indexing is deprecated; use `arr[tuple(seq)]` instead of `arr[seq]`. In the future this will be interpreted as an array index, `arr[np.array(seq)]`, which will result either in an error or a different result.\n",
      "  \n",
      "/home/juan/.local/lib/python3.6/site-packages/ipykernel_launcher.py:11: FutureWarning: Using a non-tuple sequence for multidimensional indexing is deprecated; use `arr[tuple(seq)]` instead of `arr[seq]`. In the future this will be interpreted as an array index, `arr[np.array(seq)]`, which will result either in an error or a different result.\n",
      "  # This is added back by InteractiveShellApp.init_path()\n",
      "/home/juan/.local/lib/python3.6/site-packages/ipykernel_launcher.py:12: FutureWarning: Using a non-tuple sequence for multidimensional indexing is deprecated; use `arr[tuple(seq)]` instead of `arr[seq]`. In the future this will be interpreted as an array index, `arr[np.array(seq)]`, which will result either in an error or a different result.\n",
      "  if sys.path[0] == '':\n",
      "/home/juan/.local/lib/python3.6/site-packages/ipykernel_launcher.py:13: FutureWarning: Using a non-tuple sequence for multidimensional indexing is deprecated; use `arr[tuple(seq)]` instead of `arr[seq]`. In the future this will be interpreted as an array index, `arr[np.array(seq)]`, which will result either in an error or a different result.\n",
      "  del sys.path[0]\n"
     ]
    }
   ],
   "source": [
    "# Shuffle training data\n",
    "randomize_training = np.arange(len(balanced_x_train))\n",
    "np.random.shuffle(randomize_training)\n",
    "balanced_x_train = balanced_x_train[[randomize_training]]\n",
    "balanced_y_train = balanced_y_train[[randomize_training]]\n",
    "balanced_sanity_train = balanced_sanity_train[[randomize_training]]\n",
    "\n",
    "# Shuffle testing data\n",
    "randomize_testing = np.arange(len(balanced_x_test))\n",
    "np.random.shuffle(randomize_testing)\n",
    "balanced_x_test = balanced_x_test[[randomize_testing]]\n",
    "balanced_y_test = balanced_y_test[[randomize_testing]]\n",
    "balanced_sanity_test = balanced_sanity_test[[randomize_testing]]"
   ]
  },
  {
   "cell_type": "code",
   "execution_count": 58,
   "metadata": {},
   "outputs": [],
   "source": [
    "balanced_y_train = balanced_y_train.astype('uint8')\n",
    "balanced_y_test  = balanced_y_test.astype('uint8') "
   ]
  },
  {
   "cell_type": "code",
   "execution_count": 59,
   "metadata": {},
   "outputs": [
    {
     "name": "stderr",
     "output_type": "stream",
     "text": [
      "/home/juan/.local/lib/python3.6/site-packages/tensorflow/python/framework/dtypes.py:516: FutureWarning: Passing (type, 1) or '1type' as a synonym of type is deprecated; in a future version of numpy, it will be understood as (type, (1,)) / '(1,)type'.\n",
      "  _np_qint8 = np.dtype([(\"qint8\", np.int8, 1)])\n",
      "/home/juan/.local/lib/python3.6/site-packages/tensorflow/python/framework/dtypes.py:517: FutureWarning: Passing (type, 1) or '1type' as a synonym of type is deprecated; in a future version of numpy, it will be understood as (type, (1,)) / '(1,)type'.\n",
      "  _np_quint8 = np.dtype([(\"quint8\", np.uint8, 1)])\n",
      "/home/juan/.local/lib/python3.6/site-packages/tensorflow/python/framework/dtypes.py:518: FutureWarning: Passing (type, 1) or '1type' as a synonym of type is deprecated; in a future version of numpy, it will be understood as (type, (1,)) / '(1,)type'.\n",
      "  _np_qint16 = np.dtype([(\"qint16\", np.int16, 1)])\n",
      "/home/juan/.local/lib/python3.6/site-packages/tensorflow/python/framework/dtypes.py:519: FutureWarning: Passing (type, 1) or '1type' as a synonym of type is deprecated; in a future version of numpy, it will be understood as (type, (1,)) / '(1,)type'.\n",
      "  _np_quint16 = np.dtype([(\"quint16\", np.uint16, 1)])\n",
      "/home/juan/.local/lib/python3.6/site-packages/tensorflow/python/framework/dtypes.py:520: FutureWarning: Passing (type, 1) or '1type' as a synonym of type is deprecated; in a future version of numpy, it will be understood as (type, (1,)) / '(1,)type'.\n",
      "  _np_qint32 = np.dtype([(\"qint32\", np.int32, 1)])\n",
      "/home/juan/.local/lib/python3.6/site-packages/tensorflow/python/framework/dtypes.py:525: FutureWarning: Passing (type, 1) or '1type' as a synonym of type is deprecated; in a future version of numpy, it will be understood as (type, (1,)) / '(1,)type'.\n",
      "  np_resource = np.dtype([(\"resource\", np.ubyte, 1)])\n",
      "/home/juan/.local/lib/python3.6/site-packages/tensorboard/compat/tensorflow_stub/dtypes.py:541: FutureWarning: Passing (type, 1) or '1type' as a synonym of type is deprecated; in a future version of numpy, it will be understood as (type, (1,)) / '(1,)type'.\n",
      "  _np_qint8 = np.dtype([(\"qint8\", np.int8, 1)])\n",
      "/home/juan/.local/lib/python3.6/site-packages/tensorboard/compat/tensorflow_stub/dtypes.py:542: FutureWarning: Passing (type, 1) or '1type' as a synonym of type is deprecated; in a future version of numpy, it will be understood as (type, (1,)) / '(1,)type'.\n",
      "  _np_quint8 = np.dtype([(\"quint8\", np.uint8, 1)])\n",
      "/home/juan/.local/lib/python3.6/site-packages/tensorboard/compat/tensorflow_stub/dtypes.py:543: FutureWarning: Passing (type, 1) or '1type' as a synonym of type is deprecated; in a future version of numpy, it will be understood as (type, (1,)) / '(1,)type'.\n",
      "  _np_qint16 = np.dtype([(\"qint16\", np.int16, 1)])\n",
      "/home/juan/.local/lib/python3.6/site-packages/tensorboard/compat/tensorflow_stub/dtypes.py:544: FutureWarning: Passing (type, 1) or '1type' as a synonym of type is deprecated; in a future version of numpy, it will be understood as (type, (1,)) / '(1,)type'.\n",
      "  _np_quint16 = np.dtype([(\"quint16\", np.uint16, 1)])\n",
      "/home/juan/.local/lib/python3.6/site-packages/tensorboard/compat/tensorflow_stub/dtypes.py:545: FutureWarning: Passing (type, 1) or '1type' as a synonym of type is deprecated; in a future version of numpy, it will be understood as (type, (1,)) / '(1,)type'.\n",
      "  _np_qint32 = np.dtype([(\"qint32\", np.int32, 1)])\n",
      "/home/juan/.local/lib/python3.6/site-packages/tensorboard/compat/tensorflow_stub/dtypes.py:550: FutureWarning: Passing (type, 1) or '1type' as a synonym of type is deprecated; in a future version of numpy, it will be understood as (type, (1,)) / '(1,)type'.\n",
      "  np_resource = np.dtype([(\"resource\", np.ubyte, 1)])\n"
     ]
    }
   ],
   "source": [
    "import tensorflow as tf \n",
    "from tensorflow.keras.models import Sequential\n",
    "from tensorflow.keras.layers import Dense, LSTM, Dropout, BatchNormalization"
   ]
  },
  {
   "cell_type": "code",
   "execution_count": 60,
   "metadata": {},
   "outputs": [
    {
     "name": "stdout",
     "output_type": "stream",
     "text": [
      "WARNING:tensorflow:From /home/juan/.local/lib/python3.6/site-packages/tensorflow/python/ops/init_ops.py:1251: calling VarianceScaling.__init__ (from tensorflow.python.ops.init_ops) with dtype is deprecated and will be removed in a future version.\n",
      "Instructions for updating:\n",
      "Call initializer instance with the dtype argument instead of passing it to the constructor\n"
     ]
    }
   ],
   "source": [
    "# Defining the type of model\n",
    "model = Sequential()\n",
    "\n",
    "# Defining the model\n",
    "model.add(LSTM(256, input_shape = balanced_x_train.shape[1:], activation = 'relu', return_sequences = True))\n",
    "model.add(Dropout(0.2))\n",
    "model.add(BatchNormalization())\n",
    "\n",
    "model.add(LSTM(256, activation = 'relu', return_sequences = True))\n",
    "model.add(Dropout(0.1))\n",
    "model.add(BatchNormalization())\n",
    "\n",
    "model.add(LSTM(256, activation = 'relu'))\n",
    "model.add(Dropout(0.2))\n",
    "model.add(BatchNormalization())\n",
    "\n",
    "model.add(Dense(32, activation = 'relu'))\n",
    "model.add(Dropout(0.2))\n",
    "\n",
    "model.add(Dense(2, activation = 'softmax'))"
   ]
  },
  {
   "cell_type": "code",
   "execution_count": 61,
   "metadata": {},
   "outputs": [],
   "source": [
    "opt = tf.keras.optimizers.Adam(lr=5e-5, decay = 1e-6)\n",
    "\n",
    "# Compile the model\n",
    "model.compile(loss = 'sparse_categorical_crossentropy',\n",
    "              optimizer = opt,\n",
    "              metrics = ['accuracy'])"
   ]
  },
  {
   "cell_type": "code",
   "execution_count": null,
   "metadata": {},
   "outputs": [
    {
     "name": "stdout",
     "output_type": "stream",
     "text": [
      "Train on 13870 samples, validate on 2228 samples\n",
      "WARNING:tensorflow:From /home/juan/.local/lib/python3.6/site-packages/tensorflow/python/ops/math_grad.py:1250: add_dispatch_support.<locals>.wrapper (from tensorflow.python.ops.array_ops) is deprecated and will be removed in a future version.\n",
      "Instructions for updating:\n",
      "Use tf.where in 2.0, which has the same broadcast rule as np.where\n",
      "Epoch 1/300\n",
      "13870/13870 [==============================] - 50s 4ms/sample - loss: 0.7433 - acc: 0.5418 - val_loss: 0.6977 - val_acc: 0.5000\n",
      "Epoch 2/300\n",
      "13870/13870 [==============================] - 48s 3ms/sample - loss: 0.7003 - acc: 0.5472 - val_loss: 1.0665 - val_acc: 0.5000\n",
      "Epoch 3/300\n",
      "13870/13870 [==============================] - 56s 4ms/sample - loss: 0.6833 - acc: 0.5516 - val_loss: 5.0300 - val_acc: 0.5000\n",
      "Epoch 4/300\n",
      "13870/13870 [==============================] - 54s 4ms/sample - loss: 0.6748 - acc: 0.5521 - val_loss: 10.5260 - val_acc: 0.4987\n",
      "Epoch 5/300\n",
      "13870/13870 [==============================] - 53s 4ms/sample - loss: 0.6716 - acc: 0.5495 - val_loss: 12.9734 - val_acc: 0.5000\n",
      "Epoch 6/300\n",
      "13870/13870 [==============================] - 54s 4ms/sample - loss: 0.6654 - acc: 0.5482 - val_loss: 9.5027 - val_acc: 0.4996\n",
      "Epoch 7/300\n",
      "13870/13870 [==============================] - 52s 4ms/sample - loss: 0.6597 - acc: 0.5577 - val_loss: 13.9527 - val_acc: 0.4170\n",
      "Epoch 8/300\n",
      "13870/13870 [==============================] - 57s 4ms/sample - loss: 0.6587 - acc: 0.5553 - val_loss: 12.3915 - val_acc: 0.4982\n",
      "Epoch 9/300\n",
      " 3328/13870 [======>.......................] - ETA: 37s - loss: 0.6501 - acc: 0.5571"
     ]
    }
   ],
   "source": [
    "# Train the model\n",
    "history = model.fit(balanced_x_train, balanced_y_train, \n",
    "                    batch_size = 64, epochs = 300, \n",
    "                    validation_data = (balanced_x_test, balanced_y_test))"
   ]
  },
  {
   "cell_type": "code",
   "execution_count": 26,
   "metadata": {
    "collapsed": true
   },
   "outputs": [
    {
     "data": {
      "image/png": "[encoded data removed]",
      "text/plain": [
       "<Figure size 432x288 with 1 Axes>"
      ]
     },
     "metadata": {
      "needs_background": "light"
     },
     "output_type": "display_data"
    }
   ],
   "source": [
    "plt.plot(history.history['acc'])\n",
    "plt.plot(history.history['val_acc'])\n",
    "plt.title('model accuracy')\n",
    "plt.ylabel('accuracy')\n",
    "plt.xlabel('epoch')\n",
    "plt.legend(['train', 'val'], loc='upper left')\n",
    "plt.show()"
   ]
  },
  {
   "cell_type": "code",
   "execution_count": 100,
   "metadata": {},
   "outputs": [
    {
     "name": "stdout",
     "output_type": "stream",
     "text": [
      "[array([3, 3, 3, 3, 3]) array([2, 2, 2, 2, 2]) array([1, 1, 1, 1])]\n"
     ]
    }
   ],
   "source": [
    "x = np.array([np.array([1,1,1,1]),np.array([2,2,2,2,2]),np.array([3,3,3,3,3])])\n",
    "x = x[np.array([2,1,0])]\n",
    "print(x)"
   ]
  },
  {
   "cell_type": "code",
   "execution_count": 32,
   "metadata": {
    "collapsed": true
   },
   "outputs": [
    {
     "name": "stdout",
     "output_type": "stream",
     "text": [
      "[[[0.40103953 0.33303713 0.85889765 ... 0.37767126 0.71729581 0.18475693]\n",
      "  [0.40036324 0.32259303 0.85497962 ... 0.37637154 0.72191831 0.20435599]\n",
      "  [0.39145048 0.35740117 0.82834754 ... 0.3711188  0.71474061 0.17761747]\n",
      "  ...\n",
      "  [0.39940936 0.2535616  0.84137237 ... 0.35633513 0.72256032 0.15434532]\n",
      "  [0.39616379 0.30294434 0.83644835 ... 0.35528852 0.72728558 0.13752033]\n",
      "  [0.39615788 0.29907657 0.83427755 ... 0.35708514 0.72733693 0.13722603]]\n",
      "\n",
      " [[0.35263352 0.14673239 0.22115741 ... 0.17627002 0.63976631 0.39970907]\n",
      "  [0.35143453 0.15207272 0.22179277 ... 0.17598932 0.63835388 0.37179242]\n",
      "  [0.35368192 0.14438519 0.22131625 ... 0.17381107 0.64135849 0.44278452]\n",
      "  ...\n",
      "  [0.35382662 0.14526419 0.22629322 ... 0.18192312 0.64591678 0.33378509]\n",
      "  [0.35462693 0.14501717 0.2272992  ... 0.18159564 0.64848484 0.28170109]\n",
      "  [0.3555395  0.14822939 0.22634616 ... 0.17949011 0.64802257 0.31172717]]\n",
      "\n",
      " [[0.43765338 0.07938039 0.14803833 ... 0.32803797 0.83018747 0.16888418]\n",
      "  [0.43713066 0.0845217  0.1485678  ... 0.3276949  0.81900358 0.15791933]\n",
      "  [0.43243509 0.07684029 0.14787949 ... 0.32652993 0.81937594 0.12932342]\n",
      "  ...\n",
      "  [0.43687373 0.07461442 0.14459681 ... 0.33476688 0.82021056 0.14796762]\n",
      "  [0.43790148 0.0866079  0.14443797 ... 0.33648995 0.81639703 0.18252741]\n",
      "  [0.43496893 0.09200234 0.14380262 ... 0.3383389  0.82357473 0.18442089]]\n",
      "\n",
      " ...\n",
      "\n",
      " [[0.26657119 0.12804387 0.16990523 ... 0.25512516 0.52404983 0.39560868]\n",
      "  [0.2642352  0.12626318 0.1703288  ... 0.24986421 0.51805343 0.43864629]\n",
      "  [0.258757   0.09715238 0.17027585 ... 0.24694498 0.51561378 0.31143192]\n",
      "  ...\n",
      "  [0.27549578 0.13739249 0.16831683 ... 0.22955103 0.52930151 0.35596808]\n",
      "  [0.2697193  0.13473891 0.16821094 ... 0.22507455 0.52272727 0.45302963]\n",
      "  [0.2772677  0.117866   0.16773442 ... 0.2263196  0.53212637 0.39321711]]\n",
      "\n",
      " [[0.38912631 0.20869431 0.30587176 ... 0.28483662 0.74881867 0.32485386]\n",
      "  [0.39135304 0.2219814  0.3075131  ... 0.28437898 0.75323577 0.41370243]\n",
      "  [0.38924149 0.22934595 0.30862498 ... 0.28576571 0.75715205 0.41775859]\n",
      "  ...\n",
      "  [0.40329579 0.21673098 0.31174882 ... 0.29294801 0.79061374 0.32825001]\n",
      "  [0.40431171 0.20128088 0.31487266 ... 0.29075547 0.79255263 0.29084097]\n",
      "  [0.40283215 0.21993448 0.31222534 ... 0.28954111 0.78436057 0.33605146]]\n",
      "\n",
      " [[0.55670304 0.23255905 0.6849685  ... 0.32914711 0.87886493 0.16866841]\n",
      "  [0.55308537 0.26253837 0.68539207 ... 0.32962905 0.87339497 0.15398812]\n",
      "  [0.55757426 0.24241308 0.68195055 ... 0.332392   0.87583462 0.16597053]\n",
      "  ...\n",
      "  [0.57570988 0.25002117 0.66294276 ... 0.33321356 0.88061122 0.17527161]\n",
      "  [0.57625034 0.24547168 0.66368402 ... 0.33330317 0.88276836 0.08779404]\n",
      "  [0.57610859 0.23588563 0.66701964 ... 0.33691936 0.88258861 0.12110274]]]\n"
     ]
    }
   ],
   "source": [
    "print(balanced_x_train)"
   ]
  },
  {
   "cell_type": "code",
   "execution_count": 33,
   "metadata": {
    "collapsed": true
   },
   "outputs": [
    {
     "name": "stdout",
     "output_type": "stream",
     "text": [
      "[[[0.72577711 0.22988889 0.69365172 ... 0.55213319 0.94572417 0.1506767 ]\n",
      "  [0.72992926 0.29225234 0.70042887 ... 0.5516708  0.9541089  0.17221166]\n",
      "  [0.73137638 0.23661623 0.7021761  ... 0.55270639 0.95512327 0.12135751]\n",
      "  ...\n",
      "  [0.74026549 0.28360988 0.6938635  ... 0.55101994 0.93416793 0.1749686 ]\n",
      "  [0.74073507 0.30813016 0.6886218  ... 0.55252208 0.93374422 0.17426291]\n",
      "  [0.73847885 0.25583111 0.68306242 ... 0.55117868 0.93270415 0.17798114]]\n",
      "\n",
      " [[0.7217755  0.24312448 0.68248001 ... 0.53967076 0.94795842 0.13427053]\n",
      "  [0.7202782  0.24847528 0.68062689 ... 0.53701269 0.95109144 0.16618026]\n",
      "  [0.72148314 0.22597137 0.68327421 ... 0.54686322 0.95037237 0.11266808]\n",
      "  ...\n",
      "  [0.7372621  0.28202297 0.70529994 ... 0.55473676 0.95026967 0.16867287]\n",
      "  [0.73782029 0.29399288 0.7006936  ... 0.55550152 0.94757321 0.19092052]\n",
      "  [0.73700816 0.29804395 0.70397628 ... 0.5534134  0.93674883 0.27633828]]\n",
      "\n",
      " [[0.69983612 0.31272155 0.66273098 ... 0.5299786  0.93130457 0.18799413]\n",
      "  [0.69803168 0.36749786 0.66045428 ... 0.53212451 0.93263995 0.2221059 ]\n",
      "  [0.70757646 0.37928533 0.6609308  ... 0.53297827 0.94798407 0.23430871]\n",
      "  ...\n",
      "  [0.70441654 0.34102318 0.64658231 ... 0.53212896 0.94614793 0.18844028]\n",
      "  [0.70327066 0.29378426 0.64917668 ... 0.53658969 0.95223421 0.24479353]\n",
      "  [0.70234634 0.45198464 0.65150633 ... 0.53142099 0.95338983 0.34306423]]\n",
      "\n",
      " ...\n",
      "\n",
      " [[0.79368608 0.18796148 0.68682162 ... 0.54109555 0.97880071 0.07054493]\n",
      "  [0.78957228 0.21328919 0.69100439 ... 0.54286624 0.98713403 0.06542465]\n",
      "  [0.8044505  0.32255463 0.70101128 ... 0.55575808 0.9881741  0.15966353]\n",
      "  ...\n",
      "  [0.83663454 0.30304734 0.70598825 ... 0.57474216 0.99067795 0.16516174]\n",
      "  [0.83845369 0.30722585 0.71001218 ... 0.58215227 0.99278374 0.16793239]\n",
      "  [0.83798418 0.35038315 0.71890718 ... 0.58427966 0.98143296 0.16888764]]\n",
      "\n",
      " [[0.83352185 0.34833885 0.70815905 ... 0.57255028 0.97431947 0.18073028]\n",
      "  [0.83392943 0.37196181 0.71181236 ... 0.57137235 0.96733437 0.19922241]\n",
      "  [0.83338897 0.34378238 0.7142479  ... 0.56581544 0.96178735 0.19735796]\n",
      "  ...\n",
      "  [0.81133444 0.27838041 0.70408217 ... 0.53988724 0.9302003  0.15265152]\n",
      "  [0.82087332 0.29893342 0.70974745 ... 0.54654346 0.93600412 0.1324998 ]\n",
      "  [0.81044257 0.32690335 0.69661672 ... 0.54038694 0.93509245 0.16244189]]\n",
      "\n",
      " [[0.83292234 0.29831192 0.64832954 ... 0.47694267 0.98986904 0.19283941]\n",
      "  [0.84050327 0.3101378  0.65219463 ... 0.47662832 0.98334615 0.15325407]\n",
      "  [0.83795462 0.31889461 0.64705882 ... 0.47311196 0.98397537 0.13319572]\n",
      "  ...\n",
      "  [0.84272113 0.26597319 0.64160534 ... 0.45869269 0.99406777 0.12795657]\n",
      "  [0.83672611 0.28421566 0.64086409 ... 0.45884502 0.98446328 0.15022876]\n",
      "  [0.83337419 0.27569715 0.63154551 ... 0.45729579 0.98131741 0.13464131]]]\n"
     ]
    }
   ],
   "source": [
    "print(balanced_x_test)"
   ]
  },
  {
   "cell_type": "code",
   "execution_count": 37,
   "metadata": {
    "collapsed": true
   },
   "outputs": [
    {
     "name": "stdout",
     "output_type": "stream",
     "text": [
      "[1 1 1 ... 0 1 0]\n"
     ]
    }
   ],
   "source": [
    "print(balanced_y_train)"
   ]
  },
  {
   "cell_type": "code",
   "execution_count": 38,
   "metadata": {
    "collapsed": true
   },
   "outputs": [
    {
     "name": "stdout",
     "output_type": "stream",
     "text": [
      "[0 1 0 1 0 0 0 1 1 1 0 1 1 0 1 0 1 1 1 1 1 1 0 0 0 1 1 0 0 1 1 1 0 0 1 0 0\n",
      " 0 0 1 0 1 0 0 1 1 0 0 1 1 1 1 1 1 0 0 1 1 0 1 0 0 0 1 1 1 1 1 0 1 1 1 1 1\n",
      " 0 1 1 0 0 1 1 0 1 1 1 1 0 0 0 0 1 1 1 0 1 0 1 1 0 1 0 0 0 0 0 1 1 1 1 1 1\n",
      " 0 0 1 1 0 0 0 0 1 1 1 1 1 0 1 0 0 1 1 0 1 1 0 0 0 0 0 1 1 0 1 1 1 0 1 1 0\n",
      " 0 0 0 1 0 1 0 1 1 0 0 0 0 0 1 1 1 1 0 0 1 1 0 0 0 1 0 1 0 0 1 1 1 1 1 0 0\n",
      " 0 1 0 1 1 1 1 1 0 0 0 1 0 0 0 0 0 0 0 1 1 1 0 0 0 0 0 1 1 0 0 0 0 1 0 1 0\n",
      " 1 0 0 0 1 1 1 0 1 1 1 0 0 0 0 1 0 1 0 1 0 0 1 1 1 0 0 1 0 1 0 1 1 0 1 1 0\n",
      " 0 0 0 0 0 1 1 0 0 0 0 1 0 1 0 0 1 0 0 1 0 0 0 0 0 0 1 1 1 0 1 1 1 1 0 1 0\n",
      " 0 1 0 1 0 1 1 0 1 1 0 1 1 0 0 1 0 0 1 0 1 1 1 0 1 0 0 1 1 1 0 1 0 0 0 0 1\n",
      " 1 1 0 1 0 1 1 1 1 1 0 1 0 0 1 1 1 1 0 0 1 1 1 0 1 0 1 0 0 0 1 1 0 1 0 0 0\n",
      " 1 0 0 1 1 1 0 0 0 1 0 1 1 0 0 1 1 1 0 1 1 0 0 1 0 0 1 1 0 0 0 1 1 0 1 1 0\n",
      " 0 0 1 1 1 0 1 0 0 1 1 0 0 0 0 0 1 1 1 1 1 0 1 0 1 0 0 1 0 1 0 1 1 1 1 1 0\n",
      " 1 0 0 0 1 1 0 1 0 0 0 1 1 0 0 0 0 1 1 1 0 0 0 0 0 1 1 1 1 0 1 1 0 1 0 0 1\n",
      " 0 0 0 1 0 0 1 0 0 1 0 0 1 1 1 0 1 0 1 0 0 1 0 1 1 1 1 1 0 1 1 0 0 0 0 0 0\n",
      " 0 0 1 1 1 1 0 1 0 0 0 1 0 1]\n"
     ]
    }
   ],
   "source": [
    "print(balanced_y_test)"
   ]
  },
  {
   "cell_type": "code",
   "execution_count": 44,
   "metadata": {},
   "outputs": [
    {
     "name": "stdout",
     "output_type": "stream",
     "text": [
      "0\n"
     ]
    },
    {
     "data": {
      "image/png": "[encoded data removed]",
      "text/plain": [
       "<Figure size 432x288 with 1 Axes>"
      ]
     },
     "metadata": {
      "needs_background": "light"
     },
     "output_type": "display_data"
    }
   ],
   "source": [
    "i = 22\n",
    "prices = [xs[0] for xs in balanced_x_test[i]] + list(balanced_sanity_test[i])\n",
    "plt.plot(prices)\n",
    "plt.plot(14, prices[14], 'ro')\n",
    "print(balanced_y_test[i])\n",
    "plt.show()"
   ]
  },
  {
   "cell_type": "code",
   "execution_count": 17,
   "metadata": {},
   "outputs": [
    {
     "name": "stdout",
     "output_type": "stream",
     "text": [
      "[0.48224975792502633, 0.4842579527847454, 0.48818865192899324, 0.4887792932348066, 0.48880589804948493, 0.4936904771346398, 0.49731702340430595, 0.4988349758862323, 0.49714870649409826, 0.4984983060159326, 0.5034508391331589, 0.5095816987714921, 0.5012831956347916, 0.49990994738879874, 0.5016523464509249]\n"
     ]
    }
   ],
   "source": [
    "print([xs[0] for xs in balanced_x_train[i]])"
   ]
  },
  {
   "cell_type": "code",
   "execution_count": 18,
   "metadata": {},
   "outputs": [
    {
     "name": "stdout",
     "output_type": "stream",
     "text": [
      "[0.49960871 0.49659646 0.48888856]\n"
     ]
    }
   ],
   "source": [
    "print(balanced_sanity_train[i])"
   ]
  },
  {
   "cell_type": "code",
   "execution_count": 20,
   "metadata": {},
   "outputs": [
    {
     "name": "stdout",
     "output_type": "stream",
     "text": [
      "[[0.48224976 0.23867363 0.73902684 0.00499002 0.58765319 0.16944717\n",
      "  0.74093193 0.13678711 0.55499821 0.34444557 0.82343347 0.18028791]\n",
      " [0.48425795 0.32572757 0.74744533 0.00634614 0.59327797 0.17303148\n",
      "  0.74705761 0.15549521 0.57943763 0.34850495 0.83055982 0.16690096]\n",
      " [0.48818865 0.28911343 0.73574416 0.00760055 0.59438102 0.16615235\n",
      "  0.73804116 0.12157757 0.58256436 0.34924458 0.8313688  0.16219738]\n",
      " [0.48877929 0.25812244 0.72674326 0.00487198 0.59721376 0.1894346\n",
      "  0.74588754 0.09928128 0.58301827 0.34839298 0.83877759 0.17153531]\n",
      " [0.4888059  0.27267958 0.73394398 0.01058652 0.60016462 0.24471869\n",
      "  0.76075435 0.14504119 0.57456156 0.35127591 0.84069078 0.13714354]\n",
      " [0.49369048 0.27083779 0.73404988 0.00330868 0.60021179 0.1496775\n",
      "  0.75380274 0.14235205 0.58883858 0.36318046 0.83855935 0.13267951]\n",
      " [0.49731702 0.32225261 0.72203103 0.0029483  0.61255639 0.24560208\n",
      "  0.7391424  0.17575025 0.59788055 0.36736095 0.84540318 0.16513299]\n",
      " [0.49883498 0.27369039 0.72192513 0.00622183 0.61612376 0.20804962\n",
      "  0.74031248 0.13791277 0.59795143 0.36790004 0.84596814 0.16044761]\n",
      " [0.49714871 0.27114417 0.70434691 0.00621052 0.61599826 0.20069538\n",
      "  0.74747058 0.14596421 0.59638451 0.37025326 0.8460452  0.13934542]\n",
      " [0.49849831 0.23886567 0.69275163 0.00785294 0.61711654 0.14939427\n",
      "  0.74478629 0.12136922 0.59710579 0.36707092 0.84537748 0.11211123]\n",
      " [0.50345084 0.24215994 0.69328109 0.00912618 0.62346437 0.15946551\n",
      "  0.72558332 0.18403401 0.59325073 0.35875567 0.84363125 0.27155017]\n",
      " [0.5095817  0.34826116 0.692381   0.00845189 0.62630064 0.14851049\n",
      "  0.7438227  0.11743968 0.60127964 0.35978833 0.84216741 0.17951256]\n",
      " [0.5012832  0.28534081 0.69677556 0.01218624 0.62837041 0.15506739\n",
      "  0.70982174 0.14208319 0.61069966 0.36236216 0.84379815 0.15014102]\n",
      " [0.49990995 0.27484871 0.70731191 0.01109004 0.62844513 0.21195851\n",
      "  0.70658683 0.12973061 0.60605369 0.36088219 0.8412301  0.18737406]\n",
      " [0.50165235 0.24562443 0.70079949 0.01653712 0.62833415 0.17428747\n",
      "  0.70913346 0.09992517 0.61345663 0.35387211 0.84304059 0.12501817]]\n"
     ]
    }
   ],
   "source": []
  },
  {
   "cell_type": "code",
   "execution_count": null,
   "metadata": {},
   "outputs": [],
   "source": []
  },
  {
   "cell_type": "code",
   "execution_count": null,
   "metadata": {},
   "outputs": [],
   "source": []
  },
  {
   "cell_type": "code",
   "execution_count": null,
   "metadata": {},
   "outputs": [],
   "source": []
  }
 ],
 "metadata": {
  "kernelspec": {
   "display_name": "Python 3",
   "language": "python",
   "name": "python3"
  },
  "language_info": {
   "codemirror_mode": {
    "name": "ipython",
    "version": 3
   },
   "file_extension": ".py",
   "mimetype": "text/x-python",
   "name": "python",
   "nbconvert_exporter": "python",
   "pygments_lexer": "ipython3",
   "version": "3.6.9"
  }
 },
 "nbformat": 4,
 "nbformat_minor": 4
}
